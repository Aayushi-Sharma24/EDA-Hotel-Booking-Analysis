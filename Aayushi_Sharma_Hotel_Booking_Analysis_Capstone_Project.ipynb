{
  "nbformat": 4,
  "nbformat_minor": 0,
  "metadata": {
    "kernelspec": {
      "display_name": "Python 3",
      "language": "python",
      "name": "python3"
    },
    "language_info": {
      "codemirror_mode": {
        "name": "ipython",
        "version": 3
      },
      "file_extension": ".py",
      "mimetype": "text/x-python",
      "name": "python",
      "nbconvert_exporter": "python",
      "pygments_lexer": "ipython3",
      "version": "3.6.6"
    },
    "colab": {
      "name": "Aayushi Sharma-Hotel Booking Analysis - Capstone Project.ipynb",
      "provenance": [],
      "collapsed_sections": [],
      "include_colab_link": true
    }
  },
  "cells": [
    {
      "cell_type": "markdown",
      "metadata": {
        "id": "view-in-github",
        "colab_type": "text"
      },
      "source": [
        "<a href=\"https://colab.research.google.com/github/Aayushi-Sharma24/EDA-Hotel-Booking-Analysis/blob/main/Aayushi_Sharma_Hotel_Booking_Analysis_Capstone_Project.ipynb\" target=\"_parent\"><img src=\"https://colab.research.google.com/assets/colab-badge.svg\" alt=\"Open In Colab\"/></a>"
      ]
    },
    {
      "cell_type": "markdown",
      "metadata": {
        "id": "Y06xIdG26kRF"
      },
      "source": [
        "## <b> Have you ever wondered when the best time of year to book a hotel room is? Or the optimal length of stay in order to get the best daily rate? What if you wanted to predict whether or not a hotel was likely to receive a disproportionately high number of special requests? This hotel booking dataset can help you explore those questions!\n",
        "\n",
        "## <b>This data set contains booking information for a city hotel and a resort hotel, and includes information such as when the booking was made, length of stay, the number of adults, children, and/or babies, and the number of available parking spaces, among other things. All personally identifying information has been removed from the data. </b>\n",
        "\n",
        "## <b> Explore and analyze the data to discover important factors that govern the bookings. </b>"
      ]
    },
    {
      "cell_type": "markdown",
      "metadata": {
        "id": "rHql1u7aVlLE"
      },
      "source": [
        "##**Dataset**:\n",
        "####We will use Hotel Booking Anlysis dataset from Almabetter Capstone project.\n",
        "\n",
        "####You can download it from here:\n",
        "\n",
        "https://drive.google.com/drive/folders/1G4g8YKRFudzcDlITg12guZpy3ClB5sYL\n",
        "\n",
        "####The dataset contain data set contains booking information for a city hotel and a resort hotel, and includes information such as when the booking was made, length of stay, the number of adults, children, and/or babies, and the number of available parking spaces, among other things. All personally identifying information has been removed from the data.\n",
        "\n",
        "####We will explore and analyze the data to discover important factors that govern the bookings.\n",
        "\n",
        "#Introduction\n",
        "###Hotel industry is very volatile industry and the bookings depend on variety of factors such as type of hotels, seasonality, days of week and many more. This make analyzing the patterns available in the past data more important to help hotels plan better."
      ]
    },
    {
      "cell_type": "markdown",
      "metadata": {
        "id": "4uVoxaeiWsJd"
      },
      "source": [
        "#Let's have a look at Column Information\n",
        "**Hotel**: types of hotel\n",
        "\n",
        "**is_canceled**: booking canceled or not\n",
        "\n",
        "**lead_time**: No. of days before actual arrival in the hotel\n",
        "\n",
        "**arrival_date_year**: year of booking\n",
        "\n",
        "**arrival_date_month**: month of booking\n",
        "\n",
        "**arrival_date_week_number**: week number of the year of booking\n",
        "\n",
        "**arrival_date_day_of_month**: arrival month date\n",
        "\n",
        "**stays_in_weekend_nights**: no. of weekends guests stayed\n",
        "\n",
        "**stays_in_week_nights**: no. of weekdays guests stayed\n",
        "\n",
        "**adults**: No. of Adults\n",
        "\n",
        "**children**: No. of children\n",
        "\n",
        "**babies**: No. of babaies\n",
        "\n",
        "**meal**: Type of meal booked. \n",
        "\n",
        "*   Undefined/SC – no meal package; \n",
        "*   BB – Bed & Breakfast;\n",
        "*   HB – Half board (breakfast and one other meal);\n",
        "*   FB – Full board (breakfast, lunch and dinner)\n",
        "\n",
        "**country**: country from which guests belong\n",
        "\n",
        "**market_segment**: group of people who share one or more common characteristics, lumped together for marketing purposes\n",
        "\n",
        "*   TA: Travel agents\n",
        "*   TO: Tour operators\n",
        "\n",
        "**distribution_channel**: chain of businesses\n",
        "\n",
        "*   TA: Travel agents\n",
        "*   TO: Tour operators\n",
        "\n",
        "**is_repeated_guest**:  booking name was from repeated guest or not\n",
        "\n",
        "**previous_cancellations**:  No. of previous bookings that were cancelled by the customer prior to the current booking\n",
        "\n",
        "**previous_bookings_not_canceled**:  No. of previous bookings not cancelled by the customer prior to the current booking\n",
        "\n",
        "**reserved_room_type**:  Code of room type reserved\n",
        "\n",
        "**assigned_room_type**:  Code for the type of room assigned to the booking\n",
        "\n",
        "**booking_changes**:  No. of changes made to the booking\n",
        "\n",
        "**deposit_type**: \n",
        "*   Deposit – no deposit was made;\n",
        "*   Non Refund \n",
        "*   Refundable\n",
        "\n",
        "**agent**: ID of the travel agency that made the booking\n",
        "\n",
        "**company**: ID of the company that made the booking\n",
        "\n",
        "**day_in_waiting_list**: No. of days the booking was in the waiting list before it was confirmed to the customer\n",
        "\n",
        "**customer_type**: type of customer\n",
        "\n",
        "**adr (average daily rate)**\n",
        "\n",
        "**required_car_parking_spaces**: No. of car parking spaces required by the customer\n",
        "\n",
        "**total_of_special_requests**: No. of special requests made by the customer \n",
        "\n",
        "**reservation_status**: \n",
        "*   Canceled – booking was canceled by the customer;\n",
        "*   Check-Out – customer has checked in but already departed;\n",
        "*   No-Show – customer did not check-in \n",
        "\n",
        "**reservation_status_date**: Date at which the last status was set"
      ]
    },
    {
      "cell_type": "markdown",
      "metadata": {
        "id": "5S8_U9yptGgz"
      },
      "source": [
        "#Objective\n",
        "### To create an indepth analysis to figure out the standard patterns of booking based on various factors"
      ]
    },
    {
      "cell_type": "markdown",
      "metadata": {
        "id": "9Mi4or2FdNH8"
      },
      "source": [
        "# Data Preparation and Cleaning\n",
        "\n",
        "### Let's import the required libraries that we will be using for this project"
      ]
    },
    {
      "cell_type": "code",
      "metadata": {
        "id": "MmX9nTnVdtGK"
      },
      "source": [
        "# Importing required packages\n",
        "import pandas as pd\n",
        "import numpy as np\n",
        "import matplotlib.pyplot as plt\n",
        "%matplotlib inline\n",
        "import seaborn as sns"
      ],
      "execution_count": 2,
      "outputs": []
    },
    {
      "cell_type": "markdown",
      "metadata": {
        "id": "SGsMD-E4d8OS"
      },
      "source": [
        "## Importing dataset into notebook"
      ]
    },
    {
      "cell_type": "code",
      "metadata": {
        "colab": {
          "base_uri": "https://localhost:8080/"
        },
        "id": "uWUqgPIBfAJA",
        "outputId": "5272e82c-9f6e-4c62-9c87-c6ec418c53d3"
      },
      "source": [
        "# Mount drive\n",
        "from google.colab import drive\n",
        "drive.mount('/content/drive')"
      ],
      "execution_count": 3,
      "outputs": [
        {
          "output_type": "stream",
          "text": [
            "Mounted at /content/drive\n"
          ],
          "name": "stdout"
        }
      ]
    },
    {
      "cell_type": "markdown",
      "metadata": {
        "id": "vrmTARlWfql-"
      },
      "source": [
        "###Let's Download the dataset to use it as a pandas dataframe"
      ]
    },
    {
      "cell_type": "code",
      "metadata": {
        "id": "CZc67zuWeI35"
      },
      "source": [
        "#Loading csv file to dataframe\n",
        "path = \"/content/drive/MyDrive/Colab Notebooks/project EDA/Hotel Bookings.csv\"\n",
        "df = pd.read_csv(path)"
      ],
      "execution_count": 4,
      "outputs": []
    },
    {
      "cell_type": "code",
      "metadata": {
        "colab": {
          "base_uri": "https://localhost:8080/",
          "height": 305
        },
        "id": "GSKZahBQe8vB",
        "outputId": "9bd0cb4f-4afd-405a-959a-7b9cdbe98e62"
      },
      "source": [
        "df.head()"
      ],
      "execution_count": 5,
      "outputs": [
        {
          "output_type": "execute_result",
          "data": {
            "text/html": [
              "<div>\n",
              "<style scoped>\n",
              "    .dataframe tbody tr th:only-of-type {\n",
              "        vertical-align: middle;\n",
              "    }\n",
              "\n",
              "    .dataframe tbody tr th {\n",
              "        vertical-align: top;\n",
              "    }\n",
              "\n",
              "    .dataframe thead th {\n",
              "        text-align: right;\n",
              "    }\n",
              "</style>\n",
              "<table border=\"1\" class=\"dataframe\">\n",
              "  <thead>\n",
              "    <tr style=\"text-align: right;\">\n",
              "      <th></th>\n",
              "      <th>hotel</th>\n",
              "      <th>is_canceled</th>\n",
              "      <th>lead_time</th>\n",
              "      <th>arrival_date_year</th>\n",
              "      <th>arrival_date_month</th>\n",
              "      <th>arrival_date_week_number</th>\n",
              "      <th>arrival_date_day_of_month</th>\n",
              "      <th>stays_in_weekend_nights</th>\n",
              "      <th>stays_in_week_nights</th>\n",
              "      <th>adults</th>\n",
              "      <th>children</th>\n",
              "      <th>babies</th>\n",
              "      <th>meal</th>\n",
              "      <th>country</th>\n",
              "      <th>market_segment</th>\n",
              "      <th>distribution_channel</th>\n",
              "      <th>is_repeated_guest</th>\n",
              "      <th>previous_cancellations</th>\n",
              "      <th>previous_bookings_not_canceled</th>\n",
              "      <th>reserved_room_type</th>\n",
              "      <th>assigned_room_type</th>\n",
              "      <th>booking_changes</th>\n",
              "      <th>deposit_type</th>\n",
              "      <th>agent</th>\n",
              "      <th>company</th>\n",
              "      <th>days_in_waiting_list</th>\n",
              "      <th>customer_type</th>\n",
              "      <th>adr</th>\n",
              "      <th>required_car_parking_spaces</th>\n",
              "      <th>total_of_special_requests</th>\n",
              "      <th>reservation_status</th>\n",
              "      <th>reservation_status_date</th>\n",
              "    </tr>\n",
              "  </thead>\n",
              "  <tbody>\n",
              "    <tr>\n",
              "      <th>0</th>\n",
              "      <td>Resort Hotel</td>\n",
              "      <td>0</td>\n",
              "      <td>342</td>\n",
              "      <td>2015</td>\n",
              "      <td>July</td>\n",
              "      <td>27</td>\n",
              "      <td>1</td>\n",
              "      <td>0</td>\n",
              "      <td>0</td>\n",
              "      <td>2</td>\n",
              "      <td>0.0</td>\n",
              "      <td>0</td>\n",
              "      <td>BB</td>\n",
              "      <td>PRT</td>\n",
              "      <td>Direct</td>\n",
              "      <td>Direct</td>\n",
              "      <td>0</td>\n",
              "      <td>0</td>\n",
              "      <td>0</td>\n",
              "      <td>C</td>\n",
              "      <td>C</td>\n",
              "      <td>3</td>\n",
              "      <td>No Deposit</td>\n",
              "      <td>NaN</td>\n",
              "      <td>NaN</td>\n",
              "      <td>0</td>\n",
              "      <td>Transient</td>\n",
              "      <td>0.0</td>\n",
              "      <td>0</td>\n",
              "      <td>0</td>\n",
              "      <td>Check-Out</td>\n",
              "      <td>2015-07-01</td>\n",
              "    </tr>\n",
              "    <tr>\n",
              "      <th>1</th>\n",
              "      <td>Resort Hotel</td>\n",
              "      <td>0</td>\n",
              "      <td>737</td>\n",
              "      <td>2015</td>\n",
              "      <td>July</td>\n",
              "      <td>27</td>\n",
              "      <td>1</td>\n",
              "      <td>0</td>\n",
              "      <td>0</td>\n",
              "      <td>2</td>\n",
              "      <td>0.0</td>\n",
              "      <td>0</td>\n",
              "      <td>BB</td>\n",
              "      <td>PRT</td>\n",
              "      <td>Direct</td>\n",
              "      <td>Direct</td>\n",
              "      <td>0</td>\n",
              "      <td>0</td>\n",
              "      <td>0</td>\n",
              "      <td>C</td>\n",
              "      <td>C</td>\n",
              "      <td>4</td>\n",
              "      <td>No Deposit</td>\n",
              "      <td>NaN</td>\n",
              "      <td>NaN</td>\n",
              "      <td>0</td>\n",
              "      <td>Transient</td>\n",
              "      <td>0.0</td>\n",
              "      <td>0</td>\n",
              "      <td>0</td>\n",
              "      <td>Check-Out</td>\n",
              "      <td>2015-07-01</td>\n",
              "    </tr>\n",
              "    <tr>\n",
              "      <th>2</th>\n",
              "      <td>Resort Hotel</td>\n",
              "      <td>0</td>\n",
              "      <td>7</td>\n",
              "      <td>2015</td>\n",
              "      <td>July</td>\n",
              "      <td>27</td>\n",
              "      <td>1</td>\n",
              "      <td>0</td>\n",
              "      <td>1</td>\n",
              "      <td>1</td>\n",
              "      <td>0.0</td>\n",
              "      <td>0</td>\n",
              "      <td>BB</td>\n",
              "      <td>GBR</td>\n",
              "      <td>Direct</td>\n",
              "      <td>Direct</td>\n",
              "      <td>0</td>\n",
              "      <td>0</td>\n",
              "      <td>0</td>\n",
              "      <td>A</td>\n",
              "      <td>C</td>\n",
              "      <td>0</td>\n",
              "      <td>No Deposit</td>\n",
              "      <td>NaN</td>\n",
              "      <td>NaN</td>\n",
              "      <td>0</td>\n",
              "      <td>Transient</td>\n",
              "      <td>75.0</td>\n",
              "      <td>0</td>\n",
              "      <td>0</td>\n",
              "      <td>Check-Out</td>\n",
              "      <td>2015-07-02</td>\n",
              "    </tr>\n",
              "    <tr>\n",
              "      <th>3</th>\n",
              "      <td>Resort Hotel</td>\n",
              "      <td>0</td>\n",
              "      <td>13</td>\n",
              "      <td>2015</td>\n",
              "      <td>July</td>\n",
              "      <td>27</td>\n",
              "      <td>1</td>\n",
              "      <td>0</td>\n",
              "      <td>1</td>\n",
              "      <td>1</td>\n",
              "      <td>0.0</td>\n",
              "      <td>0</td>\n",
              "      <td>BB</td>\n",
              "      <td>GBR</td>\n",
              "      <td>Corporate</td>\n",
              "      <td>Corporate</td>\n",
              "      <td>0</td>\n",
              "      <td>0</td>\n",
              "      <td>0</td>\n",
              "      <td>A</td>\n",
              "      <td>A</td>\n",
              "      <td>0</td>\n",
              "      <td>No Deposit</td>\n",
              "      <td>304.0</td>\n",
              "      <td>NaN</td>\n",
              "      <td>0</td>\n",
              "      <td>Transient</td>\n",
              "      <td>75.0</td>\n",
              "      <td>0</td>\n",
              "      <td>0</td>\n",
              "      <td>Check-Out</td>\n",
              "      <td>2015-07-02</td>\n",
              "    </tr>\n",
              "    <tr>\n",
              "      <th>4</th>\n",
              "      <td>Resort Hotel</td>\n",
              "      <td>0</td>\n",
              "      <td>14</td>\n",
              "      <td>2015</td>\n",
              "      <td>July</td>\n",
              "      <td>27</td>\n",
              "      <td>1</td>\n",
              "      <td>0</td>\n",
              "      <td>2</td>\n",
              "      <td>2</td>\n",
              "      <td>0.0</td>\n",
              "      <td>0</td>\n",
              "      <td>BB</td>\n",
              "      <td>GBR</td>\n",
              "      <td>Online TA</td>\n",
              "      <td>TA/TO</td>\n",
              "      <td>0</td>\n",
              "      <td>0</td>\n",
              "      <td>0</td>\n",
              "      <td>A</td>\n",
              "      <td>A</td>\n",
              "      <td>0</td>\n",
              "      <td>No Deposit</td>\n",
              "      <td>240.0</td>\n",
              "      <td>NaN</td>\n",
              "      <td>0</td>\n",
              "      <td>Transient</td>\n",
              "      <td>98.0</td>\n",
              "      <td>0</td>\n",
              "      <td>1</td>\n",
              "      <td>Check-Out</td>\n",
              "      <td>2015-07-03</td>\n",
              "    </tr>\n",
              "  </tbody>\n",
              "</table>\n",
              "</div>"
            ],
            "text/plain": [
              "          hotel  is_canceled  ...  reservation_status  reservation_status_date\n",
              "0  Resort Hotel            0  ...           Check-Out               2015-07-01\n",
              "1  Resort Hotel            0  ...           Check-Out               2015-07-01\n",
              "2  Resort Hotel            0  ...           Check-Out               2015-07-02\n",
              "3  Resort Hotel            0  ...           Check-Out               2015-07-02\n",
              "4  Resort Hotel            0  ...           Check-Out               2015-07-03\n",
              "\n",
              "[5 rows x 32 columns]"
            ]
          },
          "metadata": {
            "tags": []
          },
          "execution_count": 5
        }
      ]
    },
    {
      "cell_type": "markdown",
      "metadata": {
        "id": "_h0t6KazfcWE"
      },
      "source": [
        "##Let's Explore the DataFrame\n",
        "###Looking into shape of data to find out number of rows and columns"
      ]
    },
    {
      "cell_type": "code",
      "metadata": {
        "colab": {
          "base_uri": "https://localhost:8080/"
        },
        "id": "22iZ5NmHgK3R",
        "outputId": "f158f989-ad4a-4ae3-e914-d73b65ed2bce"
      },
      "source": [
        "# checks the no. of rows and columns\n",
        "df.shape"
      ],
      "execution_count": 6,
      "outputs": [
        {
          "output_type": "execute_result",
          "data": {
            "text/plain": [
              "(119390, 32)"
            ]
          },
          "metadata": {
            "tags": []
          },
          "execution_count": 6
        }
      ]
    },
    {
      "cell_type": "markdown",
      "metadata": {
        "id": "0dyPjGUvgaVC"
      },
      "source": [
        " So there are 119390 rows and 32 columns in our DataFrame\n",
        "\n",
        "### Let's have  look at all the column names present in our DataFrame"
      ]
    },
    {
      "cell_type": "code",
      "metadata": {
        "colab": {
          "base_uri": "https://localhost:8080/"
        },
        "id": "zuCm2IkZltMh",
        "outputId": "809173db-6630-42ea-9b73-f6ed1d9c6a4e"
      },
      "source": [
        "# Check column names\n",
        "df.columns"
      ],
      "execution_count": 7,
      "outputs": [
        {
          "output_type": "execute_result",
          "data": {
            "text/plain": [
              "Index(['hotel', 'is_canceled', 'lead_time', 'arrival_date_year',\n",
              "       'arrival_date_month', 'arrival_date_week_number',\n",
              "       'arrival_date_day_of_month', 'stays_in_weekend_nights',\n",
              "       'stays_in_week_nights', 'adults', 'children', 'babies', 'meal',\n",
              "       'country', 'market_segment', 'distribution_channel',\n",
              "       'is_repeated_guest', 'previous_cancellations',\n",
              "       'previous_bookings_not_canceled', 'reserved_room_type',\n",
              "       'assigned_room_type', 'booking_changes', 'deposit_type', 'agent',\n",
              "       'company', 'days_in_waiting_list', 'customer_type', 'adr',\n",
              "       'required_car_parking_spaces', 'total_of_special_requests',\n",
              "       'reservation_status', 'reservation_status_date'],\n",
              "      dtype='object')"
            ]
          },
          "metadata": {
            "tags": []
          },
          "execution_count": 7
        }
      ]
    },
    {
      "cell_type": "markdown",
      "metadata": {
        "id": "wVa3aedgmdwN"
      },
      "source": [
        " ### Looking into the datatype of each column"
      ]
    },
    {
      "cell_type": "code",
      "metadata": {
        "colab": {
          "base_uri": "https://localhost:8080/"
        },
        "id": "Oj16KDOllor2",
        "outputId": "8a85fdff-9742-46f3-bbb0-1eaac0733456"
      },
      "source": [
        "# check the datatypes of each column\n",
        "df.info()"
      ],
      "execution_count": 8,
      "outputs": [
        {
          "output_type": "stream",
          "text": [
            "<class 'pandas.core.frame.DataFrame'>\n",
            "RangeIndex: 119390 entries, 0 to 119389\n",
            "Data columns (total 32 columns):\n",
            " #   Column                          Non-Null Count   Dtype  \n",
            "---  ------                          --------------   -----  \n",
            " 0   hotel                           119390 non-null  object \n",
            " 1   is_canceled                     119390 non-null  int64  \n",
            " 2   lead_time                       119390 non-null  int64  \n",
            " 3   arrival_date_year               119390 non-null  int64  \n",
            " 4   arrival_date_month              119390 non-null  object \n",
            " 5   arrival_date_week_number        119390 non-null  int64  \n",
            " 6   arrival_date_day_of_month       119390 non-null  int64  \n",
            " 7   stays_in_weekend_nights         119390 non-null  int64  \n",
            " 8   stays_in_week_nights            119390 non-null  int64  \n",
            " 9   adults                          119390 non-null  int64  \n",
            " 10  children                        119386 non-null  float64\n",
            " 11  babies                          119390 non-null  int64  \n",
            " 12  meal                            119390 non-null  object \n",
            " 13  country                         118902 non-null  object \n",
            " 14  market_segment                  119390 non-null  object \n",
            " 15  distribution_channel            119390 non-null  object \n",
            " 16  is_repeated_guest               119390 non-null  int64  \n",
            " 17  previous_cancellations          119390 non-null  int64  \n",
            " 18  previous_bookings_not_canceled  119390 non-null  int64  \n",
            " 19  reserved_room_type              119390 non-null  object \n",
            " 20  assigned_room_type              119390 non-null  object \n",
            " 21  booking_changes                 119390 non-null  int64  \n",
            " 22  deposit_type                    119390 non-null  object \n",
            " 23  agent                           103050 non-null  float64\n",
            " 24  company                         6797 non-null    float64\n",
            " 25  days_in_waiting_list            119390 non-null  int64  \n",
            " 26  customer_type                   119390 non-null  object \n",
            " 27  adr                             119390 non-null  float64\n",
            " 28  required_car_parking_spaces     119390 non-null  int64  \n",
            " 29  total_of_special_requests       119390 non-null  int64  \n",
            " 30  reservation_status              119390 non-null  object \n",
            " 31  reservation_status_date         119390 non-null  object \n",
            "dtypes: float64(4), int64(16), object(12)\n",
            "memory usage: 29.1+ MB\n"
          ],
          "name": "stdout"
        }
      ]
    },
    {
      "cell_type": "markdown",
      "metadata": {
        "id": "lRAU38pAHagA"
      },
      "source": [
        "# Dealing with Missing values\n",
        "\n",
        "### Let's check how many cells have Null values in our DataFrame"
      ]
    },
    {
      "cell_type": "code",
      "metadata": {
        "colab": {
          "base_uri": "https://localhost:8080/"
        },
        "id": "Ew6CyjyVILop",
        "outputId": "8e1caefb-1969-4ea4-8e93-a32492bbb449"
      },
      "source": [
        "# Checking Null values\n",
        "df.isnull().sum().sort_values(ascending=False)"
      ],
      "execution_count": 9,
      "outputs": [
        {
          "output_type": "execute_result",
          "data": {
            "text/plain": [
              "company                           112593\n",
              "agent                              16340\n",
              "country                              488\n",
              "children                               4\n",
              "lead_time                              0\n",
              "arrival_date_year                      0\n",
              "arrival_date_month                     0\n",
              "arrival_date_week_number               0\n",
              "is_canceled                            0\n",
              "market_segment                         0\n",
              "arrival_date_day_of_month              0\n",
              "stays_in_weekend_nights                0\n",
              "stays_in_week_nights                   0\n",
              "adults                                 0\n",
              "babies                                 0\n",
              "meal                                   0\n",
              "reservation_status_date                0\n",
              "distribution_channel                   0\n",
              "reservation_status                     0\n",
              "is_repeated_guest                      0\n",
              "previous_cancellations                 0\n",
              "previous_bookings_not_canceled         0\n",
              "reserved_room_type                     0\n",
              "assigned_room_type                     0\n",
              "booking_changes                        0\n",
              "deposit_type                           0\n",
              "days_in_waiting_list                   0\n",
              "customer_type                          0\n",
              "adr                                    0\n",
              "required_car_parking_spaces            0\n",
              "total_of_special_requests              0\n",
              "hotel                                  0\n",
              "dtype: int64"
            ]
          },
          "metadata": {
            "tags": []
          },
          "execution_count": 9
        }
      ]
    },
    {
      "cell_type": "markdown",
      "metadata": {
        "id": "wajCOM4VIvE7"
      },
      "source": [
        "We can see that we have 4 columns with missing values.\n",
        "### Lets check these values as percentages."
      ]
    },
    {
      "cell_type": "code",
      "metadata": {
        "colab": {
          "base_uri": "https://localhost:8080/"
        },
        "id": "gskY3o9ZIuIm",
        "outputId": "407ea996-3a93-4a6c-d334-e79773d590f1"
      },
      "source": [
        "# Checking Null values percentage\n",
        "null_percentage = df.isnull().sum()/len(df.index)*100\n",
        "null_percentage.sort_values(ascending=False)"
      ],
      "execution_count": 10,
      "outputs": [
        {
          "output_type": "execute_result",
          "data": {
            "text/plain": [
              "company                           94.306893\n",
              "agent                             13.686238\n",
              "country                            0.408744\n",
              "children                           0.003350\n",
              "lead_time                          0.000000\n",
              "arrival_date_year                  0.000000\n",
              "arrival_date_month                 0.000000\n",
              "arrival_date_week_number           0.000000\n",
              "is_canceled                        0.000000\n",
              "market_segment                     0.000000\n",
              "arrival_date_day_of_month          0.000000\n",
              "stays_in_weekend_nights            0.000000\n",
              "stays_in_week_nights               0.000000\n",
              "adults                             0.000000\n",
              "babies                             0.000000\n",
              "meal                               0.000000\n",
              "reservation_status_date            0.000000\n",
              "distribution_channel               0.000000\n",
              "reservation_status                 0.000000\n",
              "is_repeated_guest                  0.000000\n",
              "previous_cancellations             0.000000\n",
              "previous_bookings_not_canceled     0.000000\n",
              "reserved_room_type                 0.000000\n",
              "assigned_room_type                 0.000000\n",
              "booking_changes                    0.000000\n",
              "deposit_type                       0.000000\n",
              "days_in_waiting_list               0.000000\n",
              "customer_type                      0.000000\n",
              "adr                                0.000000\n",
              "required_car_parking_spaces        0.000000\n",
              "total_of_special_requests          0.000000\n",
              "hotel                              0.000000\n",
              "dtype: float64"
            ]
          },
          "metadata": {
            "tags": []
          },
          "execution_count": 10
        }
      ]
    },
    {
      "cell_type": "markdown",
      "metadata": {
        "id": "hNGiGKtSI8tR"
      },
      "source": [
        "*   We can see that approx **94%** of values in \"**company**\" column and **13%** of values in \"**agent**\" column are Null.  As these columns won’t be relevant for our analysis, we can delete them.\n",
        "\n",
        "*  The columns **children** and **country** have a low percentage of missing values.we will replace **children** with \"zero\" and country with \"unknown\"."
      ]
    },
    {
      "cell_type": "code",
      "metadata": {
        "colab": {
          "base_uri": "https://localhost:8080/"
        },
        "id": "wk0oC4myJ098",
        "outputId": "b9e7eb63-68f2-4594-9571-f457f2510e91"
      },
      "source": [
        "# Deleting agent and company column\n",
        "df = df.drop(columns = ['agent', 'company'])\n",
        "\n",
        "# check number of rows and column\n",
        "df.shape"
      ],
      "execution_count": 11,
      "outputs": [
        {
          "output_type": "execute_result",
          "data": {
            "text/plain": [
              "(119390, 30)"
            ]
          },
          "metadata": {
            "tags": []
          },
          "execution_count": 11
        }
      ]
    },
    {
      "cell_type": "code",
      "metadata": {
        "colab": {
          "base_uri": "https://localhost:8080/"
        },
        "id": "Fy3E3EdzJ8nc",
        "outputId": "f42d2311-6b4e-487f-a88c-d3f4237cf118"
      },
      "source": [
        "# check all column names and shape\n",
        "df.columns"
      ],
      "execution_count": 12,
      "outputs": [
        {
          "output_type": "execute_result",
          "data": {
            "text/plain": [
              "Index(['hotel', 'is_canceled', 'lead_time', 'arrival_date_year',\n",
              "       'arrival_date_month', 'arrival_date_week_number',\n",
              "       'arrival_date_day_of_month', 'stays_in_weekend_nights',\n",
              "       'stays_in_week_nights', 'adults', 'children', 'babies', 'meal',\n",
              "       'country', 'market_segment', 'distribution_channel',\n",
              "       'is_repeated_guest', 'previous_cancellations',\n",
              "       'previous_bookings_not_canceled', 'reserved_room_type',\n",
              "       'assigned_room_type', 'booking_changes', 'deposit_type',\n",
              "       'days_in_waiting_list', 'customer_type', 'adr',\n",
              "       'required_car_parking_spaces', 'total_of_special_requests',\n",
              "       'reservation_status', 'reservation_status_date'],\n",
              "      dtype='object')"
            ]
          },
          "metadata": {
            "tags": []
          },
          "execution_count": 12
        }
      ]
    },
    {
      "cell_type": "markdown",
      "metadata": {
        "id": "XujfUTX7KpBO"
      },
      "source": [
        "Column \"company\" and \"agent\" are deleted\n",
        "\n",
        "Now, replacing rows with Null values in \"children\" and \"country\" column"
      ]
    },
    {
      "cell_type": "code",
      "metadata": {
        "id": "Z3lv51rHLE2o"
      },
      "source": [
        "# if number of id is null then replace with zero\n",
        "# rest should be self explonatory\n",
        "nan_replacements={'children':0,'country':'Unknown'}\n",
        "df=df.fillna(nan_replacements)"
      ],
      "execution_count": 13,
      "outputs": []
    },
    {
      "cell_type": "markdown",
      "metadata": {
        "id": "htbSbcKELYs6"
      },
      "source": [
        "### Let's check again for missing values"
      ]
    },
    {
      "cell_type": "code",
      "metadata": {
        "colab": {
          "base_uri": "https://localhost:8080/"
        },
        "id": "lm9KunTGLabF",
        "outputId": "9893d7fe-69b3-46fa-f360-1bcbe37e0fac"
      },
      "source": [
        "# Checking Null values\n",
        "df.isnull().sum()"
      ],
      "execution_count": 14,
      "outputs": [
        {
          "output_type": "execute_result",
          "data": {
            "text/plain": [
              "hotel                             0\n",
              "is_canceled                       0\n",
              "lead_time                         0\n",
              "arrival_date_year                 0\n",
              "arrival_date_month                0\n",
              "arrival_date_week_number          0\n",
              "arrival_date_day_of_month         0\n",
              "stays_in_weekend_nights           0\n",
              "stays_in_week_nights              0\n",
              "adults                            0\n",
              "children                          0\n",
              "babies                            0\n",
              "meal                              0\n",
              "country                           0\n",
              "market_segment                    0\n",
              "distribution_channel              0\n",
              "is_repeated_guest                 0\n",
              "previous_cancellations            0\n",
              "previous_bookings_not_canceled    0\n",
              "reserved_room_type                0\n",
              "assigned_room_type                0\n",
              "booking_changes                   0\n",
              "deposit_type                      0\n",
              "days_in_waiting_list              0\n",
              "customer_type                     0\n",
              "adr                               0\n",
              "required_car_parking_spaces       0\n",
              "total_of_special_requests         0\n",
              "reservation_status                0\n",
              "reservation_status_date           0\n",
              "dtype: int64"
            ]
          },
          "metadata": {
            "tags": []
          },
          "execution_count": 14
        }
      ]
    },
    {
      "cell_type": "markdown",
      "metadata": {
        "id": "RPHghnFVLiIo"
      },
      "source": [
        "Now, there are no missing values in our DataFrame\n",
        "\n",
        "---\n",
        "\n",
        "\n"
      ]
    },
    {
      "cell_type": "code",
      "metadata": {
        "colab": {
          "base_uri": "https://localhost:8080/"
        },
        "id": "EXBdIgwoenK7",
        "outputId": "6885e16c-0d88-4e99-e793-11fe7fc040b1"
      },
      "source": [
        "#check Datatype of each column\n",
        "df.info()"
      ],
      "execution_count": 15,
      "outputs": [
        {
          "output_type": "stream",
          "text": [
            "<class 'pandas.core.frame.DataFrame'>\n",
            "RangeIndex: 119390 entries, 0 to 119389\n",
            "Data columns (total 30 columns):\n",
            " #   Column                          Non-Null Count   Dtype  \n",
            "---  ------                          --------------   -----  \n",
            " 0   hotel                           119390 non-null  object \n",
            " 1   is_canceled                     119390 non-null  int64  \n",
            " 2   lead_time                       119390 non-null  int64  \n",
            " 3   arrival_date_year               119390 non-null  int64  \n",
            " 4   arrival_date_month              119390 non-null  object \n",
            " 5   arrival_date_week_number        119390 non-null  int64  \n",
            " 6   arrival_date_day_of_month       119390 non-null  int64  \n",
            " 7   stays_in_weekend_nights         119390 non-null  int64  \n",
            " 8   stays_in_week_nights            119390 non-null  int64  \n",
            " 9   adults                          119390 non-null  int64  \n",
            " 10  children                        119390 non-null  float64\n",
            " 11  babies                          119390 non-null  int64  \n",
            " 12  meal                            119390 non-null  object \n",
            " 13  country                         119390 non-null  object \n",
            " 14  market_segment                  119390 non-null  object \n",
            " 15  distribution_channel            119390 non-null  object \n",
            " 16  is_repeated_guest               119390 non-null  int64  \n",
            " 17  previous_cancellations          119390 non-null  int64  \n",
            " 18  previous_bookings_not_canceled  119390 non-null  int64  \n",
            " 19  reserved_room_type              119390 non-null  object \n",
            " 20  assigned_room_type              119390 non-null  object \n",
            " 21  booking_changes                 119390 non-null  int64  \n",
            " 22  deposit_type                    119390 non-null  object \n",
            " 23  days_in_waiting_list            119390 non-null  int64  \n",
            " 24  customer_type                   119390 non-null  object \n",
            " 25  adr                             119390 non-null  float64\n",
            " 26  required_car_parking_spaces     119390 non-null  int64  \n",
            " 27  total_of_special_requests       119390 non-null  int64  \n",
            " 28  reservation_status              119390 non-null  object \n",
            " 29  reservation_status_date         119390 non-null  object \n",
            "dtypes: float64(2), int64(16), object(12)\n",
            "memory usage: 27.3+ MB\n"
          ],
          "name": "stdout"
        }
      ]
    },
    {
      "cell_type": "markdown",
      "metadata": {
        "id": "LXckXx97eodS"
      },
      "source": [
        "* We can see different data types for different columns.\n",
        "\n",
        "* There are some columns like children, that are float type but their values are only in integers.\n",
        "\n",
        "* So we will convert it to the integer type."
      ]
    },
    {
      "cell_type": "code",
      "metadata": {
        "id": "Xip4pLOeezz4"
      },
      "source": [
        "# convert datatype of the column from float to integer\n",
        "df[['children']] = df[['children']].astype('int64')"
      ],
      "execution_count": 16,
      "outputs": []
    },
    {
      "cell_type": "markdown",
      "metadata": {
        "id": "cxNrCwGhe9Jz"
      },
      "source": [
        "* The **reservation_status_date** column contains date but datatype of that column is object ,so they should be datetime.\n",
        "*Convert object into datetime of column **reservation_status_date** ."
      ]
    },
    {
      "cell_type": "code",
      "metadata": {
        "id": "2G-eGYQ-fFCM"
      },
      "source": [
        "#Importing datetime module \n",
        "from datetime import datetime\n",
        "from datetime import date\n",
        "\n",
        "# convert datatype of the column from object to datetime\n",
        "df['reservation_status_date'] = df['reservation_status_date'].apply(lambda x :datetime.strptime(x,'%Y-%m-%d'))"
      ],
      "execution_count": 17,
      "outputs": []
    },
    {
      "cell_type": "code",
      "metadata": {
        "colab": {
          "base_uri": "https://localhost:8080/"
        },
        "id": "VHXSx5BOfQlm",
        "outputId": "5804eeb0-b87c-497a-8053-259b3c6b28e9"
      },
      "source": [
        "#check Datatype of each column\n",
        "df.info()"
      ],
      "execution_count": 18,
      "outputs": [
        {
          "output_type": "stream",
          "text": [
            "<class 'pandas.core.frame.DataFrame'>\n",
            "RangeIndex: 119390 entries, 0 to 119389\n",
            "Data columns (total 30 columns):\n",
            " #   Column                          Non-Null Count   Dtype         \n",
            "---  ------                          --------------   -----         \n",
            " 0   hotel                           119390 non-null  object        \n",
            " 1   is_canceled                     119390 non-null  int64         \n",
            " 2   lead_time                       119390 non-null  int64         \n",
            " 3   arrival_date_year               119390 non-null  int64         \n",
            " 4   arrival_date_month              119390 non-null  object        \n",
            " 5   arrival_date_week_number        119390 non-null  int64         \n",
            " 6   arrival_date_day_of_month       119390 non-null  int64         \n",
            " 7   stays_in_weekend_nights         119390 non-null  int64         \n",
            " 8   stays_in_week_nights            119390 non-null  int64         \n",
            " 9   adults                          119390 non-null  int64         \n",
            " 10  children                        119390 non-null  int64         \n",
            " 11  babies                          119390 non-null  int64         \n",
            " 12  meal                            119390 non-null  object        \n",
            " 13  country                         119390 non-null  object        \n",
            " 14  market_segment                  119390 non-null  object        \n",
            " 15  distribution_channel            119390 non-null  object        \n",
            " 16  is_repeated_guest               119390 non-null  int64         \n",
            " 17  previous_cancellations          119390 non-null  int64         \n",
            " 18  previous_bookings_not_canceled  119390 non-null  int64         \n",
            " 19  reserved_room_type              119390 non-null  object        \n",
            " 20  assigned_room_type              119390 non-null  object        \n",
            " 21  booking_changes                 119390 non-null  int64         \n",
            " 22  deposit_type                    119390 non-null  object        \n",
            " 23  days_in_waiting_list            119390 non-null  int64         \n",
            " 24  customer_type                   119390 non-null  object        \n",
            " 25  adr                             119390 non-null  float64       \n",
            " 26  required_car_parking_spaces     119390 non-null  int64         \n",
            " 27  total_of_special_requests       119390 non-null  int64         \n",
            " 28  reservation_status              119390 non-null  object        \n",
            " 29  reservation_status_date         119390 non-null  datetime64[ns]\n",
            "dtypes: datetime64[ns](1), float64(1), int64(17), object(11)\n",
            "memory usage: 27.3+ MB\n"
          ],
          "name": "stdout"
        }
      ]
    },
    {
      "cell_type": "markdown",
      "metadata": {
        "id": "t23LV32Yf3Cc"
      },
      "source": [
        "# Exploratory Analysis and Visualization\n",
        "\n",
        "## Overview of Arrival Period\n",
        "\n",
        "#### Let's take an look at the number of visitors per year in different hotels"
      ]
    },
    {
      "cell_type": "code",
      "metadata": {
        "colab": {
          "base_uri": "https://localhost:8080/",
          "height": 535
        },
        "id": "eXS-KvRQf8Ez",
        "outputId": "ee79991a-fa77-4969-dab0-a7037a0dbc75"
      },
      "source": [
        "lst = ['hotel', 'arrival_date_year', 'arrival_date_month','arrival_date_day_of_month' ]\n",
        "period_arrival = df[lst]\n",
        "# Enlarging figure size\n",
        "plt.figure(figsize=(15,8))\n",
        "# plotting data using countplot\n",
        "sns.countplot(data = df, x = 'arrival_date_year', hue = 'hotel', palette=[\"#fc9272\", \"#fee0d2\"]).set_title('Arrival Per Year in each Hotel', fontsize=20)"
      ],
      "execution_count": 19,
      "outputs": [
        {
          "output_type": "execute_result",
          "data": {
            "text/plain": [
              "Text(0.5, 1.0, 'Arrival Per Year in each Hotel')"
            ]
          },
          "metadata": {
            "tags": []
          },
          "execution_count": 19
        },
        {
          "output_type": "display_data",
          "data": {
            "image/png": "[encoded data removed]",
            "text/plain": [
              "<Figure size 1080x576 with 1 Axes>"
            ]
          },
          "metadata": {
            "tags": [],
            "needs_background": "light"
          }
        }
      ]
    },
    {
      "cell_type": "markdown",
      "metadata": {
        "id": "VTzFyBMB0aEI"
      },
      "source": [
        "#### Let's take an look at the number of visitors per month in different hotels"
      ]
    },
    {
      "cell_type": "code",
      "metadata": {
        "colab": {
          "base_uri": "https://localhost:8080/",
          "height": 424
        },
        "id": "mELsFqoC0hG2",
        "outputId": "ea04e531-b1b7-4f41-c9c0-da617699628e"
      },
      "source": [
        "# Enlarging figure size\n",
        "plt.figure(figsize=(20,10))\n",
        "# DataFrame for arrival per month in each hotel \n",
        "df_arrival_per_month = df.groupby(['hotel','arrival_date_month']).agg({'arrival_date_month':'count'}).rename(columns={'arrival_date_month':'total'}).reset_index()\n",
        "\n",
        "# plotting data using barplot in FacetGrid\n",
        "graph = sns.FacetGrid(df_arrival_per_month, col =\"hotel\", height=5.5, aspect=1.75)\n",
        "# map the above form facetgrid with some attributes\n",
        "graph.map(sns.barplot, \"arrival_date_month\",\"total\" ,edgecolor =\"w\", order = ['January', 'February', 'March', 'April', 'May', 'June', 'July',\n",
        "           'August', 'September', 'October', 'November', 'December'],palette='Greens').add_legend()\n",
        "\n",
        "# Setting title and adjusting its position and fontsize        \n",
        "graph.fig.subplots_adjust(top=0.8)\n",
        "graph.fig.suptitle('Arrival Per Month in each Hotel',fontsize=20)          \n",
        "# show the object\n",
        "plt.show()"
      ],
      "execution_count": 20,
      "outputs": [
        {
          "output_type": "display_data",
          "data": {
            "text/plain": [
              "<Figure size 1440x720 with 0 Axes>"
            ]
          },
          "metadata": {
            "tags": []
          }
        },
        {
          "output_type": "display_data",
          "data": {
            "image/png": "[encoded data removed]",
            "text/plain": [
              "<Figure size 1394x396 with 2 Axes>"
            ]
          },
          "metadata": {
            "tags": [],
            "needs_background": "light"
          }
        }
      ]
    },
    {
      "cell_type": "markdown",
      "metadata": {
        "id": "EXrtgWJI4u5R"
      },
      "source": [
        "#### Let's take an look at the number of visitors per day in different hotels"
      ]
    },
    {
      "cell_type": "code",
      "metadata": {
        "colab": {
          "base_uri": "https://localhost:8080/",
          "height": 354
        },
        "id": "Nt3IpHNz4tyO",
        "outputId": "975aa58b-6202-40fc-ac95-63a1b32e9e89"
      },
      "source": [
        "# Enlarging figure size\n",
        "plt.figure(figsize=(15,5))   \n",
        "# DataFrame for arrival per day in each hotel \n",
        "df_arrival_per_day = df.groupby(['hotel','arrival_date_day_of_month']).agg({'arrival_date_day_of_month':'count'}).rename(columns={'arrival_date_day_of_month':'total'}).reset_index()\n",
        "df_arrival_per_day1 = df_arrival_per_day[df_arrival_per_day['hotel'] == 'City Hotel']\n",
        "df_arrival_per_day2 = df_arrival_per_day[df_arrival_per_day['hotel'] == 'Resort Hotel']\n",
        "\n",
        "# plotting data using linegraph with markers\n",
        "plt.plot( 'arrival_date_day_of_month', 'total', data=df_arrival_per_day1, marker='o', markerfacecolor='blue', markersize=5, color='#7a5195', linewidth=2)\n",
        "plt.plot( 'arrival_date_day_of_month', 'total', data=df_arrival_per_day2, marker='x',color='#de425b', linewidth=2)\n",
        "plt.legend(title='Number of Arrival per day',loc = 'upper right',labels=['City Hotel','Resort Hotel'])\n",
        "\n",
        "# Setting the title\n",
        "plt.title(\"Arrival Per Day in each Hotel\", fontsize=20)\n",
        "#Setting X and Y labels\n",
        "plt.xlabel('arrival date') \n",
        "plt.ylabel('total')\n",
        "\n",
        "#show the object\n",
        "plt.show()"
      ],
      "execution_count": 21,
      "outputs": [
        {
          "output_type": "display_data",
          "data": {
            "image/png": "[encoded data removed]",
            "text/plain": [
              "<Figure size 1080x360 with 1 Axes>"
            ]
          },
          "metadata": {
            "tags": [],
            "needs_background": "light"
          }
        }
      ]
    },
    {
      "cell_type": "markdown",
      "metadata": {
        "id": "9iZbuM5l5Ufx"
      },
      "source": [
        "## So, What do we see?\n",
        "\n",
        "We can see that 2016 seems to be the year where hotel booking is at its highest. We also see an increasing trend in booking around the middle of the year, with August being the highest and Most of the people prefer City Hotel\n",
        "\n",
        "###Let's dig deeper into whether guests prefer to stay over a weekend or weekday"
      ]
    },
    {
      "cell_type": "code",
      "metadata": {
        "colab": {
          "base_uri": "https://localhost:8080/",
          "height": 540
        },
        "id": "_8h57trG5cJq",
        "outputId": "6f681cec-01dc-46f0-a2f6-9f89bcaabee0"
      },
      "source": [
        "# Enlarging figure size\n",
        "plt.figure(figsize=(15,8))\n",
        "# plotting data using histplot\n",
        "sns.set_theme(style=\"whitegrid\")\n",
        "sns.histplot(data = df, x = 'stays_in_weekend_nights',binwidth=1).set_title('Number of stays on weekend nights', fontsize = 20)"
      ],
      "execution_count": 22,
      "outputs": [
        {
          "output_type": "execute_result",
          "data": {
            "text/plain": [
              "Text(0.5, 1.0, 'Number of stays on weekend nights')"
            ]
          },
          "metadata": {
            "tags": []
          },
          "execution_count": 22
        },
        {
          "output_type": "display_data",
          "data": {
            "image/png": "[encoded data removed]",
            "text/plain": [
              "<Figure size 1080x576 with 1 Axes>"
            ]
          },
          "metadata": {
            "tags": [],
            "needs_background": "light"
          }
        }
      ]
    },
    {
      "cell_type": "code",
      "metadata": {
        "colab": {
          "base_uri": "https://localhost:8080/",
          "height": 540
        },
        "id": "tk_78WVF7974",
        "outputId": "bab30de7-7964-4952-ca17-f2507c07c37a"
      },
      "source": [
        "# Enlarging figure size\n",
        "plt.figure(figsize=(15,8))\n",
        "# plotting data using histplot\n",
        "sns.set_theme(style=\"whitegrid\")\n",
        "sns.histplot(data = df, x = 'stays_in_week_nights', binwidth=1).set_title('Number of stays on weekday night' , fontsize = 20)"
      ],
      "execution_count": 45,
      "outputs": [
        {
          "output_type": "execute_result",
          "data": {
            "text/plain": [
              "Text(0.5, 1.0, 'Number of stays on weekday night')"
            ]
          },
          "metadata": {
            "tags": []
          },
          "execution_count": 45
        },
        {
          "output_type": "display_data",
          "data": {
            "image/png": "[encoded data removed]",
            "text/plain": [
              "<Figure size 1080x576 with 1 Axes>"
            ]
          },
          "metadata": {
            "tags": []
          }
        }
      ]
    },
    {
      "cell_type": "markdown",
      "metadata": {
        "id": "qz9-C3W88ToQ"
      },
      "source": [
        "It seems that majority of the stays are over the weekday's night."
      ]
    },
    {
      "cell_type": "markdown",
      "metadata": {
        "id": "F55kt23I08nd"
      },
      "source": [
        "##Overview of Type of visitors in each Hotel\n",
        "\n",
        "###Looking at the number of adults"
      ]
    },
    {
      "cell_type": "code",
      "metadata": {
        "id": "S1nAK_jC8W8f",
        "colab": {
          "base_uri": "https://localhost:8080/",
          "height": 563
        },
        "outputId": "abe5e57c-de2e-4736-d945-a9213a9834ff"
      },
      "source": [
        "# DataFrame to find count of adults in each Hotel\n",
        "data_no_of_adults = df.groupby(['hotel','adults']).agg({'adults':'count'}).rename(columns={'adults':'total'}).reset_index()\n",
        "# Plotting data using catplot\n",
        "adult_visitors_graph = sns.catplot(data = data_no_of_adults, x = 'adults',y = 'total', hue = 'hotel',kind='bar',height = 7, aspect=1,palette=\"Pastel1\")\n",
        "# Setting Title\n",
        "adult_visitors_graph.ax.set_title(\"Number of adults\",fontsize =20)"
      ],
      "execution_count": 24,
      "outputs": [
        {
          "output_type": "execute_result",
          "data": {
            "text/plain": [
              "Text(0.5, 1.0, 'Number of adults')"
            ]
          },
          "metadata": {
            "tags": []
          },
          "execution_count": 24
        },
        {
          "output_type": "display_data",
          "data": {
            "image/png": "[encoded data removed]",
            "text/plain": [
              "<Figure size 612.1x504 with 1 Axes>"
            ]
          },
          "metadata": {
            "tags": []
          }
        }
      ]
    },
    {
      "cell_type": "markdown",
      "metadata": {
        "id": "acxXBZlB1c0R"
      },
      "source": [
        "### Looking at the number of children"
      ]
    },
    {
      "cell_type": "code",
      "metadata": {
        "colab": {
          "base_uri": "https://localhost:8080/",
          "height": 563
        },
        "id": "RtO5i4621gwn",
        "outputId": "0b57a2a2-dd84-48c0-b372-dd8a6f4a8822"
      },
      "source": [
        "# DataFrame to find count of children in each Hotel\n",
        "data_no_of_children = df.groupby(['hotel','children']).agg({'children':'count'}).rename(columns={'children':'total'}).reset_index()\n",
        "# Plotting data using catplot \n",
        "children_visitors_graph = sns.catplot(data = data_no_of_children, x = 'children',y = 'total', hue = 'hotel', kind='bar',height = 7, aspect=1,palette=\"Pastel2\")\n",
        "# Setting Title\n",
        "children_visitors_graph.ax.set_title(\"Number of Children\",fontsize =20)"
      ],
      "execution_count": 25,
      "outputs": [
        {
          "output_type": "execute_result",
          "data": {
            "text/plain": [
              "Text(0.5, 1.0, 'Number of Children')"
            ]
          },
          "metadata": {
            "tags": []
          },
          "execution_count": 25
        },
        {
          "output_type": "display_data",
          "data": {
            "image/png": "[encoded data removed]",
            "text/plain": [
              "<Figure size 612.1x504 with 1 Axes>"
            ]
          },
          "metadata": {
            "tags": []
          }
        }
      ]
    },
    {
      "cell_type": "markdown",
      "metadata": {
        "id": "dPnmemsj1keY"
      },
      "source": [
        "###Looking at the number of babies"
      ]
    },
    {
      "cell_type": "code",
      "metadata": {
        "colab": {
          "base_uri": "https://localhost:8080/",
          "height": 563
        },
        "id": "3y35d9rS1oGK",
        "outputId": "b9b43081-601e-46ff-e661-4895b8520431"
      },
      "source": [
        "# DataFrame to find count of babies in each Hotel\n",
        "data_no_of_babies = df.groupby(['hotel','babies']).agg({'babies':'count'}).rename(columns={'babies':'total'}).reset_index()\n",
        "# Plotting data using catplot \n",
        "babies_visitors_graph = sns.catplot(data = data_no_of_babies, x = 'babies',y = 'total', hue = 'hotel',kind='bar',height = 7, aspect=1,palette=\"coolwarm\")\n",
        "# Setting Title\n",
        "babies_visitors_graph.ax.set_title(\"Number of Babies\",fontsize =20)"
      ],
      "execution_count": 26,
      "outputs": [
        {
          "output_type": "execute_result",
          "data": {
            "text/plain": [
              "Text(0.5, 1.0, 'Number of Babies')"
            ]
          },
          "metadata": {
            "tags": []
          },
          "execution_count": 26
        },
        {
          "output_type": "display_data",
          "data": {
            "image/png": "[encoded data removed]",
            "text/plain": [
              "<Figure size 612.1x504 with 1 Axes>"
            ]
          },
          "metadata": {
            "tags": []
          }
        }
      ]
    },
    {
      "cell_type": "markdown",
      "metadata": {
        "id": "mvfBWESI1yU1"
      },
      "source": [
        "###What do we see here?\n",
        "\n",
        "It seems that majority of the visitors travel in pair. Those that travel with children or babies have no specific preference for the type of hotel. But we do see that those bringing babies along prefer resort hotels.\n",
        "\n",
        "##Relation between prices and month\n",
        "\n"
      ]
    },
    {
      "cell_type": "code",
      "metadata": {
        "colab": {
          "base_uri": "https://localhost:8080/",
          "height": 690
        },
        "id": "RVmkx6HRWVgJ",
        "outputId": "e1ea7276-9069-40bc-bea2-85ea8a5a20f2"
      },
      "source": [
        "#Enlarging figure size\n",
        "plt.figure(figsize=(18,9))\n",
        "\n",
        "# Calculating average daily rate per person for guests who gave not canceled booking\n",
        "df['adr_pp'] = df['adr']/(df['adults'] + df['children'])\n",
        "actual_guests = df.loc[df['is_canceled'] == 0]\n",
        "actual_guests['price'] = actual_guests['adr'] * (actual_guests['stays_in_weekend_nights'] + actual_guests['stays_in_week_nights'])\n",
        "\n",
        "# Plotting the data using violinplot\n",
        "sns.violinplot(x=\"arrival_date_month\", y=\"price\", hue=\"hotel\",\n",
        "                    data=actual_guests, palette=\"Set2\", split=True)\n",
        "# Show object\n",
        "plt.show()"
      ],
      "execution_count": 48,
      "outputs": [
        {
          "output_type": "stream",
          "text": [
            "/usr/local/lib/python3.7/dist-packages/ipykernel_launcher.py:7: SettingWithCopyWarning:\n",
            "\n",
            "\n",
            "A value is trying to be set on a copy of a slice from a DataFrame.\n",
            "Try using .loc[row_indexer,col_indexer] = value instead\n",
            "\n",
            "See the caveats in the documentation: https://pandas.pydata.org/pandas-docs/stable/user_guide/indexing.html#returning-a-view-versus-a-copy\n",
            "\n"
          ],
          "name": "stderr"
        },
        {
          "output_type": "display_data",
          "data": {
            "image/png": "[encoded data removed]",
            "text/plain": [
              "<Figure size 1296x648 with 1 Axes>"
            ]
          },
          "metadata": {
            "tags": []
          }
        }
      ]
    },
    {
      "cell_type": "markdown",
      "metadata": {
        "id": "Gk79L4ZBWrdL"
      },
      "source": [
        "##What can we see here?\n",
        "\n",
        "* For resort hotels, the average daily rate is more expensive during august, july and september.\n",
        "\n",
        "* For city hotels, the average daily rate is more expensive during august, july, june and may.\n",
        "\n",
        "* Prices of resort hotel are much higher and fluctuate more than city hotels.\n"
      ]
    },
    {
      "cell_type": "markdown",
      "metadata": {
        "id": "FuU0fSaBWTud"
      },
      "source": [
        "## Overview of visitor's Country\n",
        "\n",
        "### Which countries can be targeted for promotion?"
      ]
    },
    {
      "cell_type": "code",
      "metadata": {
        "colab": {
          "base_uri": "https://localhost:8080/"
        },
        "id": "tNZ5gfQLdcfM",
        "outputId": "dacbb322-475f-4683-c458-9f93b59d4c3a"
      },
      "source": [
        "# Print top 3 countries from where visitors come\n",
        "print('Most common countries:')\n",
        "print(df.country.value_counts().head(3))"
      ],
      "execution_count": 27,
      "outputs": [
        {
          "output_type": "stream",
          "text": [
            "Most common countries:\n",
            "PRT    48590\n",
            "GBR    12129\n",
            "FRA    10415\n",
            "Name: country, dtype: int64\n"
          ],
          "name": "stdout"
        }
      ]
    },
    {
      "cell_type": "markdown",
      "metadata": {
        "id": "rgqmWYaDikTF"
      },
      "source": [
        "Top 3 countries where visitors come from are:\n",
        "1. Portugal\n",
        "2. Great Britain(UK)\n",
        "3. France"
      ]
    },
    {
      "cell_type": "code",
      "metadata": {
        "colab": {
          "base_uri": "https://localhost:8080/",
          "height": 542
        },
        "id": "h2YBUNHme5hd",
        "outputId": "893023ee-41e9-46ec-8afe-c40064a50530"
      },
      "source": [
        "# Plotting country data for those visitors who have no canceled booking\n",
        "# DataFrame of visitors who have not canceled booking\n",
        "country_visitors = df[df['is_canceled'] == 0].groupby(['country']).size().reset_index(name = 'count')\n",
        "\n",
        "# using Plotly.express to plot a choropleth map.\n",
        "import plotly.express as px\n",
        "\n",
        "px.choropleth(country_visitors,\n",
        "                    locations = \"country\",\n",
        "                    color= \"count\", \n",
        "                    hover_name= \"country\", # column to add to hover information\n",
        "                    range_color=(0, 8000),\n",
        "                    color_continuous_scale=\"blugrn\",\n",
        "                    title=\"Home country of visitors\")\n",
        "\n",
        "# Hover on the countries to check their names\n",
        "# Scroll up and down from mouse on the map to zoom in and zomm out for closer look!"
      ],
      "execution_count": 28,
      "outputs": [
        {
          "output_type": "display_data",
          "data": {
            "text/html": [
              "<html>\n",
              "<head><meta charset=\"utf-8\" /></head>\n",
              "<body>\n",
              "    <div>\n",
              "            <script src=\"https://cdnjs.cloudflare.com/ajax/libs/mathjax/2.7.5/MathJax.js?config=TeX-AMS-MML_SVG\"></script><script type=\"text/javascript\">if (window.MathJax) {MathJax.Hub.Config({SVG: {font: \"STIX-Web\"}});}</script>\n",
              "                <script type=\"text/javascript\">window.PlotlyConfig = {MathJaxConfig: 'local'};</script>\n",
              "        <script src=\"https://cdn.plot.ly/plotly-latest.min.js\"></script>    \n",
              "            <div id=\"ea4bf9fb-8d6e-428c-8829-413767ec49ec\" class=\"plotly-graph-div\" style=\"height:525px; width:100%;\"></div>\n",
              "            <script type=\"text/javascript\">\n",
              "                \n",
              "                    window.PLOTLYENV=window.PLOTLYENV || {};\n",
              "                    \n",
              "                if (document.getElementById(\"ea4bf9fb-8d6e-428c-8829-413767ec49ec\")) {\n",
              "                    Plotly.newPlot(\n",
              "                        'ea4bf9fb-8d6e-428c-8829-413767ec49ec',\n",
              "                        [{\"coloraxis\": \"coloraxis\", \"geo\": \"geo\", \"hoverlabel\": {\"namelength\": 0}, \"hovertemplate\": \"<b>%{hovertext}</b><br><br>country=%{location}<br>count=%{z}\", \"hovertext\": [\"ABW\", \"AGO\", \"AIA\", \"ALB\", \"AND\", \"ARE\", \"ARG\", \"ARM\", \"ASM\", \"ATA\", \"ATF\", \"AUS\", \"AUT\", \"AZE\", \"BDI\", \"BEL\", \"BFA\", \"BGD\", \"BGR\", \"BHR\", \"BHS\", \"BIH\", \"BLR\", \"BOL\", \"BRA\", \"BRB\", \"BWA\", \"CAF\", \"CHE\", \"CHL\", \"CHN\", \"CIV\", \"CMR\", \"CN\", \"COL\", \"COM\", \"CPV\", \"CRI\", \"CUB\", \"CYM\", \"CYP\", \"CZE\", \"DEU\", \"DJI\", \"DMA\", \"DNK\", \"DOM\", \"DZA\", \"ECU\", \"EGY\", \"ESP\", \"EST\", \"ETH\", \"FIN\", \"FRA\", \"FRO\", \"GAB\", \"GBR\", \"GEO\", \"GHA\", \"GIB\", \"GNB\", \"GRC\", \"GTM\", \"GUY\", \"HKG\", \"HRV\", \"HUN\", \"IDN\", \"IND\", \"IRL\", \"IRN\", \"IRQ\", \"ISL\", \"ISR\", \"ITA\", \"JAM\", \"JOR\", \"JPN\", \"KAZ\", \"KEN\", \"KIR\", \"KNA\", \"KOR\", \"KWT\", \"LAO\", \"LBN\", \"LBY\", \"LCA\", \"LIE\", \"LKA\", \"LTU\", \"LUX\", \"LVA\", \"MAC\", \"MAR\", \"MCO\", \"MDG\", \"MDV\", \"MEX\", \"MKD\", \"MLI\", \"MLT\", \"MMR\", \"MNE\", \"MOZ\", \"MRT\", \"MUS\", \"MWI\", \"MYS\", \"NAM\", \"NCL\", \"NGA\", \"NLD\", \"NOR\", \"NPL\", \"NZL\", \"OMN\", \"PAK\", \"PAN\", \"PER\", \"PHL\", \"PLW\", \"POL\", \"PRI\", \"PRT\", \"PRY\", \"PYF\", \"QAT\", \"ROU\", \"RUS\", \"RWA\", \"SAU\", \"SDN\", \"SEN\", \"SGP\", \"SLE\", \"SLV\", \"SMR\", \"SRB\", \"STP\", \"SUR\", \"SVK\", \"SVN\", \"SWE\", \"SYC\", \"SYR\", \"TGO\", \"THA\", \"TJK\", \"TMP\", \"TUN\", \"TUR\", \"TWN\", \"TZA\", \"UGA\", \"UKR\", \"URY\", \"USA\", \"UZB\", \"Unknown\", \"VEN\", \"VNM\", \"ZAF\", \"ZMB\", \"ZWE\"], \"locations\": [\"ABW\", \"AGO\", \"AIA\", \"ALB\", \"AND\", \"ARE\", \"ARG\", \"ARM\", \"ASM\", \"ATA\", \"ATF\", \"AUS\", \"AUT\", \"AZE\", \"BDI\", \"BEL\", \"BFA\", \"BGD\", \"BGR\", \"BHR\", \"BHS\", \"BIH\", \"BLR\", \"BOL\", \"BRA\", \"BRB\", \"BWA\", \"CAF\", \"CHE\", \"CHL\", \"CHN\", \"CIV\", \"CMR\", \"CN\", \"COL\", \"COM\", \"CPV\", \"CRI\", \"CUB\", \"CYM\", \"CYP\", \"CZE\", \"DEU\", \"DJI\", \"DMA\", \"DNK\", \"DOM\", \"DZA\", \"ECU\", \"EGY\", \"ESP\", \"EST\", \"ETH\", \"FIN\", \"FRA\", \"FRO\", \"GAB\", \"GBR\", \"GEO\", \"GHA\", \"GIB\", \"GNB\", \"GRC\", \"GTM\", \"GUY\", \"HKG\", \"HRV\", \"HUN\", \"IDN\", \"IND\", \"IRL\", \"IRN\", \"IRQ\", \"ISL\", \"ISR\", \"ITA\", \"JAM\", \"JOR\", \"JPN\", \"KAZ\", \"KEN\", \"KIR\", \"KNA\", \"KOR\", \"KWT\", \"LAO\", \"LBN\", \"LBY\", \"LCA\", \"LIE\", \"LKA\", \"LTU\", \"LUX\", \"LVA\", \"MAC\", \"MAR\", \"MCO\", \"MDG\", \"MDV\", \"MEX\", \"MKD\", \"MLI\", \"MLT\", \"MMR\", \"MNE\", \"MOZ\", \"MRT\", \"MUS\", \"MWI\", \"MYS\", \"NAM\", \"NCL\", \"NGA\", \"NLD\", \"NOR\", \"NPL\", \"NZL\", \"OMN\", \"PAK\", \"PAN\", \"PER\", \"PHL\", \"PLW\", \"POL\", \"PRI\", \"PRT\", \"PRY\", \"PYF\", \"QAT\", \"ROU\", \"RUS\", \"RWA\", \"SAU\", \"SDN\", \"SEN\", \"SGP\", \"SLE\", \"SLV\", \"SMR\", \"SRB\", \"STP\", \"SUR\", \"SVK\", \"SVN\", \"SWE\", \"SYC\", \"SYR\", \"TGO\", \"THA\", \"TJK\", \"TMP\", \"TUN\", \"TUR\", \"TWN\", \"TZA\", \"UGA\", \"UKR\", \"URY\", \"USA\", \"UZB\", \"Unknown\", \"VEN\", \"VNM\", \"ZAF\", \"ZMB\", \"ZWE\"], \"name\": \"\", \"type\": \"choropleth\", \"z\": [2, 157, 1, 10, 2, 8, 160, 6, 1, 2, 1, 319, 1033, 8, 1, 1868, 1, 3, 63, 1, 1, 10, 17, 10, 1394, 4, 1, 5, 1302, 49, 537, 4, 10, 1025, 48, 2, 12, 18, 8, 1, 40, 134, 6069, 1, 1, 326, 6, 82, 19, 21, 6391, 65, 2, 378, 8481, 1, 2, 9676, 7, 2, 7, 8, 93, 4, 1, 3, 75, 153, 11, 117, 2543, 60, 14, 53, 500, 2433, 6, 18, 169, 14, 4, 1, 2, 78, 10, 2, 22, 8, 1, 2, 7, 74, 178, 46, 1, 150, 3, 1, 3, 75, 8, 1, 13, 1, 3, 48, 1, 6, 2, 25, 1, 1, 13, 1717, 426, 1, 68, 14, 5, 9, 23, 15, 1, 704, 10, 21071, 4, 1, 4, 366, 393, 2, 15, 1, 3, 23, 1, 2, 1, 98, 2, 5, 41, 42, 797, 1, 3, 2, 41, 1, 2, 20, 146, 37, 2, 2, 48, 23, 1596, 2, 421, 14, 6, 49, 1, 2]}],\n",
              "                        {\"coloraxis\": {\"cmax\": 8000, \"cmin\": 0, \"colorbar\": {\"title\": {\"text\": \"count\"}}, \"colorscale\": [[0.0, \"rgb(196, 230, 195)\"], [0.16666666666666666, \"rgb(150, 210, 164)\"], [0.3333333333333333, \"rgb(109, 188, 144)\"], [0.5, \"rgb(77, 162, 132)\"], [0.6666666666666666, \"rgb(54, 135, 122)\"], [0.8333333333333334, \"rgb(38, 107, 110)\"], [1.0, \"rgb(29, 79, 96)\"]]}, \"geo\": {\"center\": {}, \"domain\": {\"x\": [0.0, 1.0], \"y\": [0.0, 1.0]}}, \"legend\": {\"tracegroupgap\": 0}, \"template\": {\"data\": {\"bar\": [{\"error_x\": {\"color\": \"#2a3f5f\"}, \"error_y\": {\"color\": \"#2a3f5f\"}, \"marker\": {\"line\": {\"color\": \"#E5ECF6\", \"width\": 0.5}}, \"type\": \"bar\"}], \"barpolar\": [{\"marker\": {\"line\": {\"color\": \"#E5ECF6\", \"width\": 0.5}}, \"type\": \"barpolar\"}], \"carpet\": [{\"aaxis\": {\"endlinecolor\": \"#2a3f5f\", \"gridcolor\": \"white\", \"linecolor\": \"white\", \"minorgridcolor\": \"white\", \"startlinecolor\": \"#2a3f5f\"}, \"baxis\": {\"endlinecolor\": \"#2a3f5f\", \"gridcolor\": \"white\", \"linecolor\": \"white\", \"minorgridcolor\": \"white\", \"startlinecolor\": \"#2a3f5f\"}, \"type\": \"carpet\"}], \"choropleth\": [{\"colorbar\": {\"outlinewidth\": 0, \"ticks\": \"\"}, \"type\": \"choropleth\"}], \"contour\": [{\"colorbar\": {\"outlinewidth\": 0, \"ticks\": \"\"}, \"colorscale\": [[0.0, \"#0d0887\"], [0.1111111111111111, \"#46039f\"], [0.2222222222222222, \"#7201a8\"], [0.3333333333333333, \"#9c179e\"], [0.4444444444444444, \"#bd3786\"], [0.5555555555555556, \"#d8576b\"], [0.6666666666666666, \"#ed7953\"], [0.7777777777777778, \"#fb9f3a\"], [0.8888888888888888, \"#fdca26\"], [1.0, \"#f0f921\"]], \"type\": \"contour\"}], \"contourcarpet\": [{\"colorbar\": {\"outlinewidth\": 0, \"ticks\": \"\"}, \"type\": \"contourcarpet\"}], \"heatmap\": [{\"colorbar\": {\"outlinewidth\": 0, \"ticks\": \"\"}, \"colorscale\": [[0.0, \"#0d0887\"], [0.1111111111111111, \"#46039f\"], [0.2222222222222222, \"#7201a8\"], [0.3333333333333333, \"#9c179e\"], [0.4444444444444444, \"#bd3786\"], [0.5555555555555556, \"#d8576b\"], [0.6666666666666666, \"#ed7953\"], [0.7777777777777778, \"#fb9f3a\"], [0.8888888888888888, \"#fdca26\"], [1.0, \"#f0f921\"]], \"type\": \"heatmap\"}], \"heatmapgl\": [{\"colorbar\": {\"outlinewidth\": 0, \"ticks\": \"\"}, \"colorscale\": [[0.0, \"#0d0887\"], [0.1111111111111111, \"#46039f\"], [0.2222222222222222, \"#7201a8\"], [0.3333333333333333, \"#9c179e\"], [0.4444444444444444, \"#bd3786\"], [0.5555555555555556, \"#d8576b\"], [0.6666666666666666, \"#ed7953\"], [0.7777777777777778, \"#fb9f3a\"], [0.8888888888888888, \"#fdca26\"], [1.0, \"#f0f921\"]], \"type\": \"heatmapgl\"}], \"histogram\": [{\"marker\": {\"colorbar\": {\"outlinewidth\": 0, \"ticks\": \"\"}}, \"type\": \"histogram\"}], \"histogram2d\": [{\"colorbar\": {\"outlinewidth\": 0, \"ticks\": \"\"}, \"colorscale\": [[0.0, \"#0d0887\"], [0.1111111111111111, \"#46039f\"], [0.2222222222222222, \"#7201a8\"], [0.3333333333333333, \"#9c179e\"], [0.4444444444444444, \"#bd3786\"], [0.5555555555555556, \"#d8576b\"], [0.6666666666666666, \"#ed7953\"], [0.7777777777777778, \"#fb9f3a\"], [0.8888888888888888, \"#fdca26\"], [1.0, \"#f0f921\"]], \"type\": \"histogram2d\"}], \"histogram2dcontour\": [{\"colorbar\": {\"outlinewidth\": 0, \"ticks\": \"\"}, \"colorscale\": [[0.0, \"#0d0887\"], [0.1111111111111111, \"#46039f\"], [0.2222222222222222, \"#7201a8\"], [0.3333333333333333, \"#9c179e\"], [0.4444444444444444, \"#bd3786\"], [0.5555555555555556, \"#d8576b\"], [0.6666666666666666, \"#ed7953\"], [0.7777777777777778, \"#fb9f3a\"], [0.8888888888888888, \"#fdca26\"], [1.0, \"#f0f921\"]], \"type\": \"histogram2dcontour\"}], \"mesh3d\": [{\"colorbar\": {\"outlinewidth\": 0, \"ticks\": \"\"}, \"type\": \"mesh3d\"}], \"parcoords\": [{\"line\": {\"colorbar\": {\"outlinewidth\": 0, \"ticks\": \"\"}}, \"type\": \"parcoords\"}], \"pie\": [{\"automargin\": true, \"type\": \"pie\"}], \"scatter\": [{\"marker\": {\"colorbar\": {\"outlinewidth\": 0, \"ticks\": \"\"}}, \"type\": \"scatter\"}], \"scatter3d\": [{\"line\": {\"colorbar\": {\"outlinewidth\": 0, \"ticks\": \"\"}}, \"marker\": {\"colorbar\": {\"outlinewidth\": 0, \"ticks\": \"\"}}, \"type\": \"scatter3d\"}], \"scattercarpet\": [{\"marker\": {\"colorbar\": {\"outlinewidth\": 0, \"ticks\": \"\"}}, \"type\": \"scattercarpet\"}], \"scattergeo\": [{\"marker\": {\"colorbar\": {\"outlinewidth\": 0, \"ticks\": \"\"}}, \"type\": \"scattergeo\"}], \"scattergl\": [{\"marker\": {\"colorbar\": {\"outlinewidth\": 0, \"ticks\": \"\"}}, \"type\": \"scattergl\"}], \"scattermapbox\": [{\"marker\": {\"colorbar\": {\"outlinewidth\": 0, \"ticks\": \"\"}}, \"type\": \"scattermapbox\"}], \"scatterpolar\": [{\"marker\": {\"colorbar\": {\"outlinewidth\": 0, \"ticks\": \"\"}}, \"type\": \"scatterpolar\"}], \"scatterpolargl\": [{\"marker\": {\"colorbar\": {\"outlinewidth\": 0, \"ticks\": \"\"}}, \"type\": \"scatterpolargl\"}], \"scatterternary\": [{\"marker\": {\"colorbar\": {\"outlinewidth\": 0, \"ticks\": \"\"}}, \"type\": \"scatterternary\"}], \"surface\": [{\"colorbar\": {\"outlinewidth\": 0, \"ticks\": \"\"}, \"colorscale\": [[0.0, \"#0d0887\"], [0.1111111111111111, \"#46039f\"], [0.2222222222222222, \"#7201a8\"], [0.3333333333333333, \"#9c179e\"], [0.4444444444444444, \"#bd3786\"], [0.5555555555555556, \"#d8576b\"], [0.6666666666666666, \"#ed7953\"], [0.7777777777777778, \"#fb9f3a\"], [0.8888888888888888, \"#fdca26\"], [1.0, \"#f0f921\"]], \"type\": \"surface\"}], \"table\": [{\"cells\": {\"fill\": {\"color\": \"#EBF0F8\"}, \"line\": {\"color\": \"white\"}}, \"header\": {\"fill\": {\"color\": \"#C8D4E3\"}, \"line\": {\"color\": \"white\"}}, \"type\": \"table\"}]}, \"layout\": {\"annotationdefaults\": {\"arrowcolor\": \"#2a3f5f\", \"arrowhead\": 0, \"arrowwidth\": 1}, \"coloraxis\": {\"colorbar\": {\"outlinewidth\": 0, \"ticks\": \"\"}}, \"colorscale\": {\"diverging\": [[0, \"#8e0152\"], [0.1, \"#c51b7d\"], [0.2, \"#de77ae\"], [0.3, \"#f1b6da\"], [0.4, \"#fde0ef\"], [0.5, \"#f7f7f7\"], [0.6, \"#e6f5d0\"], [0.7, \"#b8e186\"], [0.8, \"#7fbc41\"], [0.9, \"#4d9221\"], [1, \"#276419\"]], \"sequential\": [[0.0, \"#0d0887\"], [0.1111111111111111, \"#46039f\"], [0.2222222222222222, \"#7201a8\"], [0.3333333333333333, \"#9c179e\"], [0.4444444444444444, \"#bd3786\"], [0.5555555555555556, \"#d8576b\"], [0.6666666666666666, \"#ed7953\"], [0.7777777777777778, \"#fb9f3a\"], [0.8888888888888888, \"#fdca26\"], [1.0, \"#f0f921\"]], \"sequentialminus\": [[0.0, \"#0d0887\"], [0.1111111111111111, \"#46039f\"], [0.2222222222222222, \"#7201a8\"], [0.3333333333333333, \"#9c179e\"], [0.4444444444444444, \"#bd3786\"], [0.5555555555555556, \"#d8576b\"], [0.6666666666666666, \"#ed7953\"], [0.7777777777777778, \"#fb9f3a\"], [0.8888888888888888, \"#fdca26\"], [1.0, \"#f0f921\"]]}, \"colorway\": [\"#636efa\", \"#EF553B\", \"#00cc96\", \"#ab63fa\", \"#FFA15A\", \"#19d3f3\", \"#FF6692\", \"#B6E880\", \"#FF97FF\", \"#FECB52\"], \"font\": {\"color\": \"#2a3f5f\"}, \"geo\": {\"bgcolor\": \"white\", \"lakecolor\": \"white\", \"landcolor\": \"#E5ECF6\", \"showlakes\": true, \"showland\": true, \"subunitcolor\": \"white\"}, \"hoverlabel\": {\"align\": \"left\"}, \"hovermode\": \"closest\", \"mapbox\": {\"style\": \"light\"}, \"paper_bgcolor\": \"white\", \"plot_bgcolor\": \"#E5ECF6\", \"polar\": {\"angularaxis\": {\"gridcolor\": \"white\", \"linecolor\": \"white\", \"ticks\": \"\"}, \"bgcolor\": \"#E5ECF6\", \"radialaxis\": {\"gridcolor\": \"white\", \"linecolor\": \"white\", \"ticks\": \"\"}}, \"scene\": {\"xaxis\": {\"backgroundcolor\": \"#E5ECF6\", \"gridcolor\": \"white\", \"gridwidth\": 2, \"linecolor\": \"white\", \"showbackground\": true, \"ticks\": \"\", \"zerolinecolor\": \"white\"}, \"yaxis\": {\"backgroundcolor\": \"#E5ECF6\", \"gridcolor\": \"white\", \"gridwidth\": 2, \"linecolor\": \"white\", \"showbackground\": true, \"ticks\": \"\", \"zerolinecolor\": \"white\"}, \"zaxis\": {\"backgroundcolor\": \"#E5ECF6\", \"gridcolor\": \"white\", \"gridwidth\": 2, \"linecolor\": \"white\", \"showbackground\": true, \"ticks\": \"\", \"zerolinecolor\": \"white\"}}, \"shapedefaults\": {\"line\": {\"color\": \"#2a3f5f\"}}, \"ternary\": {\"aaxis\": {\"gridcolor\": \"white\", \"linecolor\": \"white\", \"ticks\": \"\"}, \"baxis\": {\"gridcolor\": \"white\", \"linecolor\": \"white\", \"ticks\": \"\"}, \"bgcolor\": \"#E5ECF6\", \"caxis\": {\"gridcolor\": \"white\", \"linecolor\": \"white\", \"ticks\": \"\"}}, \"title\": {\"x\": 0.05}, \"xaxis\": {\"automargin\": true, \"gridcolor\": \"white\", \"linecolor\": \"white\", \"ticks\": \"\", \"title\": {\"standoff\": 15}, \"zerolinecolor\": \"white\", \"zerolinewidth\": 2}, \"yaxis\": {\"automargin\": true, \"gridcolor\": \"white\", \"linecolor\": \"white\", \"ticks\": \"\", \"title\": {\"standoff\": 15}, \"zerolinecolor\": \"white\", \"zerolinewidth\": 2}}}, \"title\": {\"text\": \"Home country of visitors\"}},\n",
              "                        {\"responsive\": true}\n",
              "                    ).then(function(){\n",
              "                            \n",
              "var gd = document.getElementById('ea4bf9fb-8d6e-428c-8829-413767ec49ec');\n",
              "var x = new MutationObserver(function (mutations, observer) {{\n",
              "        var display = window.getComputedStyle(gd).display;\n",
              "        if (!display || display === 'none') {{\n",
              "            console.log([gd, 'removed!']);\n",
              "            Plotly.purge(gd);\n",
              "            observer.disconnect();\n",
              "        }}\n",
              "}});\n",
              "\n",
              "// Listen for the removal of the full notebook cells\n",
              "var notebookContainer = gd.closest('#notebook-container');\n",
              "if (notebookContainer) {{\n",
              "    x.observe(notebookContainer, {childList: true});\n",
              "}}\n",
              "\n",
              "// Listen for the clearing of the current output cell\n",
              "var outputEl = gd.closest('.output');\n",
              "if (outputEl) {{\n",
              "    x.observe(outputEl, {childList: true});\n",
              "}}\n",
              "\n",
              "                        })\n",
              "                };\n",
              "                \n",
              "            </script>\n",
              "        </div>\n",
              "</body>\n",
              "</html>"
            ]
          },
          "metadata": {
            "tags": []
          }
        }
      ]
    },
    {
      "cell_type": "markdown",
      "metadata": {
        "id": "NGxt2ofiicET"
      },
      "source": [
        "### So, What do we see?\n",
        "We have a huge number of visitors from **western europe**, namely France,UK and Portugal being the highest.\n",
        "So, this can be the target region for promotion.\n",
        "\n",
        "## Overview of Market Segment and Distribution Channel\n",
        "\n",
        "#### Let's check market segment designation. In catergories, the term **\"TA\"** means **\"Travel Agents\"** and **\"TO\"** means **\"Tour Operators\"**"
      ]
    },
    {
      "cell_type": "code",
      "metadata": {
        "colab": {
          "base_uri": "https://localhost:8080/",
          "height": 591
        },
        "id": "6CY35p8ZonY5",
        "outputId": "61c36dd3-1ee6-4961-a7b1-f353bca72387"
      },
      "source": [
        "# Enlarging figure size\n",
        "plt.figure(figsize=(20,10))\n",
        "# DataFrame for total number of market segment designation\n",
        "df_mkt_segment=pd.DataFrame(df.market_segment.value_counts())\n",
        "df_mkt_segment.reset_index(level=0, inplace=True)\n",
        "df_mkt_segment.rename(columns = {'index':'market_segment', 'market_segment':'total'}, inplace = True)\n",
        "# sorting the data in descending order\n",
        "ordered_df = df_mkt_segment.sort_values(by='total',ascending=False)\n",
        "\n",
        "# Plotting the graph\n",
        "fig, ax = plt.subplots(figsize=(8,7), dpi= 80)\n",
        "ax.vlines(x=ordered_df.index, ymin=0, ymax=ordered_df.total, color='firebrick', alpha=0.7, linewidth=3)\n",
        "ax.scatter(x=ordered_df.index, y=ordered_df.total, s=40, color='firebrick', alpha=1)\n",
        "ax.set_xticks(ordered_df.index)\n",
        "ax.set_xticklabels(ordered_df.market_segment.str.upper(), rotation=60, fontdict={'horizontalalignment': 'right', 'size':12})\n",
        "\n",
        "# Printing the count in graph\n",
        "for row in ordered_df.itertuples():\n",
        "    ax.text(row.Index, row.total+.5, s=round(row.total, 2), horizontalalignment= 'center', verticalalignment='bottom', fontsize=10)\n",
        "# Show the object\n",
        "plt.show()"
      ],
      "execution_count": 29,
      "outputs": [
        {
          "output_type": "display_data",
          "data": {
            "text/plain": [
              "<Figure size 1440x720 with 0 Axes>"
            ]
          },
          "metadata": {
            "tags": []
          }
        },
        {
          "output_type": "display_data",
          "data": {
            "image/png": "[encoded data removed]",
            "text/plain": [
              "<Figure size 640x560 with 1 Axes>"
            ]
          },
          "metadata": {
            "tags": []
          }
        }
      ]
    },
    {
      "cell_type": "markdown",
      "metadata": {
        "id": "IidZCnYtt0wq"
      },
      "source": [
        "#### Let's check distribution channel."
      ]
    },
    {
      "cell_type": "code",
      "metadata": {
        "colab": {
          "base_uri": "https://localhost:8080/",
          "height": 498
        },
        "id": "zmfDvKpxtm1t",
        "outputId": "e81f063c-2be3-4147-a7a7-258754457b82"
      },
      "source": [
        "# Enlarging figure size\n",
        "plt.figure(figsize=(8,8))\n",
        "# DataFrame for total number of Distribution channel\n",
        "df_distribution_channel=pd.DataFrame(df.distribution_channel.value_counts())\n",
        "df_distribution_channel.reset_index(level=0, inplace=True)\n",
        "df_distribution_channel.rename(columns = {'index':'distribution_channel', 'distribution_channel':'total'}, inplace = True)\n",
        "\n",
        "ordered_df = df_distribution_channel.sort_values(by='total',ascending=False)\n",
        "\n",
        "# Plotting the graph\n",
        "fig, ax = plt.subplots(figsize=(8,6), dpi= 80)\n",
        "ax.vlines(x=ordered_df.index, ymin=0, ymax=ordered_df.total, color='green', alpha=0.7, linewidth=3)\n",
        "ax.scatter(x=ordered_df.index, y=ordered_df.total, s=40, color='green', alpha=1)\n",
        "ax.set_xticks(ordered_df.index)\n",
        "ax.set_xticklabels(ordered_df.distribution_channel.str.upper(), rotation=60, fontdict={'horizontalalignment': 'right', 'size':12})\n",
        "\n",
        "# Printing the count in graph\n",
        "for row in ordered_df.itertuples():\n",
        "    ax.text(row.Index, row.total+.5, s=round(row.total, 2), horizontalalignment= 'center', verticalalignment='bottom', fontsize=10)\n",
        "\n",
        "# Show the object\n",
        "plt.show()"
      ],
      "execution_count": 30,
      "outputs": [
        {
          "output_type": "display_data",
          "data": {
            "text/plain": [
              "<Figure size 576x576 with 0 Axes>"
            ]
          },
          "metadata": {
            "tags": []
          }
        },
        {
          "output_type": "display_data",
          "data": {
            "image/png": "[encoded data removed]",
            "text/plain": [
              "<Figure size 640x480 with 1 Axes>"
            ]
          },
          "metadata": {
            "tags": []
          }
        }
      ]
    },
    {
      "cell_type": "markdown",
      "metadata": {
        "id": "QJgz0UR3ua-J"
      },
      "source": [
        "###What do we see here?\n",
        "\n",
        "Majority of the bookings were made through online travel agent and the travel agents whether online/offline have the highest distribution rates\n",
        "\n",
        "We can target our marketing area to be on these travel agencies website and work with them since majority of the visitors tend to reach out to them."
      ]
    },
    {
      "cell_type": "markdown",
      "metadata": {
        "id": "iQ1m43Izy4wS"
      },
      "source": [
        "##Let's anaylze does Market segment has any impact on repeated guest?"
      ]
    },
    {
      "cell_type": "code",
      "metadata": {
        "colab": {
          "base_uri": "https://localhost:8080/",
          "height": 508
        },
        "id": "cBlo_9TEzKm0",
        "outputId": "939b28c8-db9a-44aa-b44f-bb06f3b557ab"
      },
      "source": [
        "# DataFrame to count market segment for repeated guests\n",
        "df_mkt_segment_impact=df.groupby(['market_segment','is_repeated_guest']).size().reset_index(name='count')\n",
        "# Print DataFrame\n",
        "df_mkt_segment_impact"
      ],
      "execution_count": 31,
      "outputs": [
        {
          "output_type": "execute_result",
          "data": {
            "text/html": [
              "<div>\n",
              "<style scoped>\n",
              "    .dataframe tbody tr th:only-of-type {\n",
              "        vertical-align: middle;\n",
              "    }\n",
              "\n",
              "    .dataframe tbody tr th {\n",
              "        vertical-align: top;\n",
              "    }\n",
              "\n",
              "    .dataframe thead th {\n",
              "        text-align: right;\n",
              "    }\n",
              "</style>\n",
              "<table border=\"1\" class=\"dataframe\">\n",
              "  <thead>\n",
              "    <tr style=\"text-align: right;\">\n",
              "      <th></th>\n",
              "      <th>market_segment</th>\n",
              "      <th>is_repeated_guest</th>\n",
              "      <th>count</th>\n",
              "    </tr>\n",
              "  </thead>\n",
              "  <tbody>\n",
              "    <tr>\n",
              "      <th>0</th>\n",
              "      <td>Aviation</td>\n",
              "      <td>0</td>\n",
              "      <td>173</td>\n",
              "    </tr>\n",
              "    <tr>\n",
              "      <th>1</th>\n",
              "      <td>Aviation</td>\n",
              "      <td>1</td>\n",
              "      <td>64</td>\n",
              "    </tr>\n",
              "    <tr>\n",
              "      <th>2</th>\n",
              "      <td>Complementary</td>\n",
              "      <td>0</td>\n",
              "      <td>513</td>\n",
              "    </tr>\n",
              "    <tr>\n",
              "      <th>3</th>\n",
              "      <td>Complementary</td>\n",
              "      <td>1</td>\n",
              "      <td>230</td>\n",
              "    </tr>\n",
              "    <tr>\n",
              "      <th>4</th>\n",
              "      <td>Corporate</td>\n",
              "      <td>0</td>\n",
              "      <td>3821</td>\n",
              "    </tr>\n",
              "    <tr>\n",
              "      <th>5</th>\n",
              "      <td>Corporate</td>\n",
              "      <td>1</td>\n",
              "      <td>1474</td>\n",
              "    </tr>\n",
              "    <tr>\n",
              "      <th>6</th>\n",
              "      <td>Direct</td>\n",
              "      <td>0</td>\n",
              "      <td>11810</td>\n",
              "    </tr>\n",
              "    <tr>\n",
              "      <th>7</th>\n",
              "      <td>Direct</td>\n",
              "      <td>1</td>\n",
              "      <td>796</td>\n",
              "    </tr>\n",
              "    <tr>\n",
              "      <th>8</th>\n",
              "      <td>Groups</td>\n",
              "      <td>0</td>\n",
              "      <td>19541</td>\n",
              "    </tr>\n",
              "    <tr>\n",
              "      <th>9</th>\n",
              "      <td>Groups</td>\n",
              "      <td>1</td>\n",
              "      <td>270</td>\n",
              "    </tr>\n",
              "    <tr>\n",
              "      <th>10</th>\n",
              "      <td>Offline TA/TO</td>\n",
              "      <td>0</td>\n",
              "      <td>23840</td>\n",
              "    </tr>\n",
              "    <tr>\n",
              "      <th>11</th>\n",
              "      <td>Offline TA/TO</td>\n",
              "      <td>1</td>\n",
              "      <td>379</td>\n",
              "    </tr>\n",
              "    <tr>\n",
              "      <th>12</th>\n",
              "      <td>Online TA</td>\n",
              "      <td>0</td>\n",
              "      <td>55880</td>\n",
              "    </tr>\n",
              "    <tr>\n",
              "      <th>13</th>\n",
              "      <td>Online TA</td>\n",
              "      <td>1</td>\n",
              "      <td>597</td>\n",
              "    </tr>\n",
              "    <tr>\n",
              "      <th>14</th>\n",
              "      <td>Undefined</td>\n",
              "      <td>0</td>\n",
              "      <td>2</td>\n",
              "    </tr>\n",
              "  </tbody>\n",
              "</table>\n",
              "</div>"
            ],
            "text/plain": [
              "   market_segment  is_repeated_guest  count\n",
              "0        Aviation                  0    173\n",
              "1        Aviation                  1     64\n",
              "2   Complementary                  0    513\n",
              "3   Complementary                  1    230\n",
              "4       Corporate                  0   3821\n",
              "5       Corporate                  1   1474\n",
              "6          Direct                  0  11810\n",
              "7          Direct                  1    796\n",
              "8          Groups                  0  19541\n",
              "9          Groups                  1    270\n",
              "10  Offline TA/TO                  0  23840\n",
              "11  Offline TA/TO                  1    379\n",
              "12      Online TA                  0  55880\n",
              "13      Online TA                  1    597\n",
              "14      Undefined                  0      2"
            ]
          },
          "metadata": {
            "tags": []
          },
          "execution_count": 31
        }
      ]
    },
    {
      "cell_type": "code",
      "metadata": {
        "colab": {
          "base_uri": "https://localhost:8080/",
          "height": 294
        },
        "id": "vzlvofUbzmf1",
        "outputId": "929bf1e6-7bae-49fc-a1b9-4a7d909468ef"
      },
      "source": [
        "# Total count of each market segment\n",
        "df_mkt_segment=pd.DataFrame(df.market_segment.value_counts())\n",
        "df_mkt_segment.reset_index(level=0, inplace=True)\n",
        "df_mkt_segment.rename(columns = {'index':'market_segment', 'market_segment':'total'}, inplace = True)\n",
        "# Print DataFrame\n",
        "df_mkt_segment"
      ],
      "execution_count": 32,
      "outputs": [
        {
          "output_type": "execute_result",
          "data": {
            "text/html": [
              "<div>\n",
              "<style scoped>\n",
              "    .dataframe tbody tr th:only-of-type {\n",
              "        vertical-align: middle;\n",
              "    }\n",
              "\n",
              "    .dataframe tbody tr th {\n",
              "        vertical-align: top;\n",
              "    }\n",
              "\n",
              "    .dataframe thead th {\n",
              "        text-align: right;\n",
              "    }\n",
              "</style>\n",
              "<table border=\"1\" class=\"dataframe\">\n",
              "  <thead>\n",
              "    <tr style=\"text-align: right;\">\n",
              "      <th></th>\n",
              "      <th>market_segment</th>\n",
              "      <th>total</th>\n",
              "    </tr>\n",
              "  </thead>\n",
              "  <tbody>\n",
              "    <tr>\n",
              "      <th>0</th>\n",
              "      <td>Online TA</td>\n",
              "      <td>56477</td>\n",
              "    </tr>\n",
              "    <tr>\n",
              "      <th>1</th>\n",
              "      <td>Offline TA/TO</td>\n",
              "      <td>24219</td>\n",
              "    </tr>\n",
              "    <tr>\n",
              "      <th>2</th>\n",
              "      <td>Groups</td>\n",
              "      <td>19811</td>\n",
              "    </tr>\n",
              "    <tr>\n",
              "      <th>3</th>\n",
              "      <td>Direct</td>\n",
              "      <td>12606</td>\n",
              "    </tr>\n",
              "    <tr>\n",
              "      <th>4</th>\n",
              "      <td>Corporate</td>\n",
              "      <td>5295</td>\n",
              "    </tr>\n",
              "    <tr>\n",
              "      <th>5</th>\n",
              "      <td>Complementary</td>\n",
              "      <td>743</td>\n",
              "    </tr>\n",
              "    <tr>\n",
              "      <th>6</th>\n",
              "      <td>Aviation</td>\n",
              "      <td>237</td>\n",
              "    </tr>\n",
              "    <tr>\n",
              "      <th>7</th>\n",
              "      <td>Undefined</td>\n",
              "      <td>2</td>\n",
              "    </tr>\n",
              "  </tbody>\n",
              "</table>\n",
              "</div>"
            ],
            "text/plain": [
              "  market_segment  total\n",
              "0      Online TA  56477\n",
              "1  Offline TA/TO  24219\n",
              "2         Groups  19811\n",
              "3         Direct  12606\n",
              "4      Corporate   5295\n",
              "5  Complementary    743\n",
              "6       Aviation    237\n",
              "7      Undefined      2"
            ]
          },
          "metadata": {
            "tags": []
          },
          "execution_count": 32
        }
      ]
    },
    {
      "cell_type": "code",
      "metadata": {
        "colab": {
          "base_uri": "https://localhost:8080/",
          "height": 508
        },
        "id": "Jcm2cR0fzshd",
        "outputId": "1767cfc7-427f-4259-95a4-ef4c8036a305"
      },
      "source": [
        "#Joining two tables\n",
        "df_mkt_segment_impact=df_mkt_segment_impact.merge(df_mkt_segment, on='market_segment', how='left') \n",
        "# Print DataFrame\n",
        "df_mkt_segment_impact"
      ],
      "execution_count": 33,
      "outputs": [
        {
          "output_type": "execute_result",
          "data": {
            "text/html": [
              "<div>\n",
              "<style scoped>\n",
              "    .dataframe tbody tr th:only-of-type {\n",
              "        vertical-align: middle;\n",
              "    }\n",
              "\n",
              "    .dataframe tbody tr th {\n",
              "        vertical-align: top;\n",
              "    }\n",
              "\n",
              "    .dataframe thead th {\n",
              "        text-align: right;\n",
              "    }\n",
              "</style>\n",
              "<table border=\"1\" class=\"dataframe\">\n",
              "  <thead>\n",
              "    <tr style=\"text-align: right;\">\n",
              "      <th></th>\n",
              "      <th>market_segment</th>\n",
              "      <th>is_repeated_guest</th>\n",
              "      <th>count</th>\n",
              "      <th>total</th>\n",
              "    </tr>\n",
              "  </thead>\n",
              "  <tbody>\n",
              "    <tr>\n",
              "      <th>0</th>\n",
              "      <td>Aviation</td>\n",
              "      <td>0</td>\n",
              "      <td>173</td>\n",
              "      <td>237</td>\n",
              "    </tr>\n",
              "    <tr>\n",
              "      <th>1</th>\n",
              "      <td>Aviation</td>\n",
              "      <td>1</td>\n",
              "      <td>64</td>\n",
              "      <td>237</td>\n",
              "    </tr>\n",
              "    <tr>\n",
              "      <th>2</th>\n",
              "      <td>Complementary</td>\n",
              "      <td>0</td>\n",
              "      <td>513</td>\n",
              "      <td>743</td>\n",
              "    </tr>\n",
              "    <tr>\n",
              "      <th>3</th>\n",
              "      <td>Complementary</td>\n",
              "      <td>1</td>\n",
              "      <td>230</td>\n",
              "      <td>743</td>\n",
              "    </tr>\n",
              "    <tr>\n",
              "      <th>4</th>\n",
              "      <td>Corporate</td>\n",
              "      <td>0</td>\n",
              "      <td>3821</td>\n",
              "      <td>5295</td>\n",
              "    </tr>\n",
              "    <tr>\n",
              "      <th>5</th>\n",
              "      <td>Corporate</td>\n",
              "      <td>1</td>\n",
              "      <td>1474</td>\n",
              "      <td>5295</td>\n",
              "    </tr>\n",
              "    <tr>\n",
              "      <th>6</th>\n",
              "      <td>Direct</td>\n",
              "      <td>0</td>\n",
              "      <td>11810</td>\n",
              "      <td>12606</td>\n",
              "    </tr>\n",
              "    <tr>\n",
              "      <th>7</th>\n",
              "      <td>Direct</td>\n",
              "      <td>1</td>\n",
              "      <td>796</td>\n",
              "      <td>12606</td>\n",
              "    </tr>\n",
              "    <tr>\n",
              "      <th>8</th>\n",
              "      <td>Groups</td>\n",
              "      <td>0</td>\n",
              "      <td>19541</td>\n",
              "      <td>19811</td>\n",
              "    </tr>\n",
              "    <tr>\n",
              "      <th>9</th>\n",
              "      <td>Groups</td>\n",
              "      <td>1</td>\n",
              "      <td>270</td>\n",
              "      <td>19811</td>\n",
              "    </tr>\n",
              "    <tr>\n",
              "      <th>10</th>\n",
              "      <td>Offline TA/TO</td>\n",
              "      <td>0</td>\n",
              "      <td>23840</td>\n",
              "      <td>24219</td>\n",
              "    </tr>\n",
              "    <tr>\n",
              "      <th>11</th>\n",
              "      <td>Offline TA/TO</td>\n",
              "      <td>1</td>\n",
              "      <td>379</td>\n",
              "      <td>24219</td>\n",
              "    </tr>\n",
              "    <tr>\n",
              "      <th>12</th>\n",
              "      <td>Online TA</td>\n",
              "      <td>0</td>\n",
              "      <td>55880</td>\n",
              "      <td>56477</td>\n",
              "    </tr>\n",
              "    <tr>\n",
              "      <th>13</th>\n",
              "      <td>Online TA</td>\n",
              "      <td>1</td>\n",
              "      <td>597</td>\n",
              "      <td>56477</td>\n",
              "    </tr>\n",
              "    <tr>\n",
              "      <th>14</th>\n",
              "      <td>Undefined</td>\n",
              "      <td>0</td>\n",
              "      <td>2</td>\n",
              "      <td>2</td>\n",
              "    </tr>\n",
              "  </tbody>\n",
              "</table>\n",
              "</div>"
            ],
            "text/plain": [
              "   market_segment  is_repeated_guest  count  total\n",
              "0        Aviation                  0    173    237\n",
              "1        Aviation                  1     64    237\n",
              "2   Complementary                  0    513    743\n",
              "3   Complementary                  1    230    743\n",
              "4       Corporate                  0   3821   5295\n",
              "5       Corporate                  1   1474   5295\n",
              "6          Direct                  0  11810  12606\n",
              "7          Direct                  1    796  12606\n",
              "8          Groups                  0  19541  19811\n",
              "9          Groups                  1    270  19811\n",
              "10  Offline TA/TO                  0  23840  24219\n",
              "11  Offline TA/TO                  1    379  24219\n",
              "12      Online TA                  0  55880  56477\n",
              "13      Online TA                  1    597  56477\n",
              "14      Undefined                  0      2      2"
            ]
          },
          "metadata": {
            "tags": []
          },
          "execution_count": 33
        }
      ]
    },
    {
      "cell_type": "code",
      "metadata": {
        "colab": {
          "base_uri": "https://localhost:8080/",
          "height": 508
        },
        "id": "T7bTH65uztUU",
        "outputId": "abf00b48-c225-49b9-cf9a-26dd18b1a96d"
      },
      "source": [
        "# Calculating percentage of repeated guest per market segment\n",
        "df_mkt_segment_impact['repeated_guest_per_market%']=(df_mkt_segment_impact['count']/df_mkt_segment_impact['total'])*100\n",
        "# Print DataFrame\n",
        "df_mkt_segment_impact"
      ],
      "execution_count": 34,
      "outputs": [
        {
          "output_type": "execute_result",
          "data": {
            "text/html": [
              "<div>\n",
              "<style scoped>\n",
              "    .dataframe tbody tr th:only-of-type {\n",
              "        vertical-align: middle;\n",
              "    }\n",
              "\n",
              "    .dataframe tbody tr th {\n",
              "        vertical-align: top;\n",
              "    }\n",
              "\n",
              "    .dataframe thead th {\n",
              "        text-align: right;\n",
              "    }\n",
              "</style>\n",
              "<table border=\"1\" class=\"dataframe\">\n",
              "  <thead>\n",
              "    <tr style=\"text-align: right;\">\n",
              "      <th></th>\n",
              "      <th>market_segment</th>\n",
              "      <th>is_repeated_guest</th>\n",
              "      <th>count</th>\n",
              "      <th>total</th>\n",
              "      <th>repeated_guest_per_market%</th>\n",
              "    </tr>\n",
              "  </thead>\n",
              "  <tbody>\n",
              "    <tr>\n",
              "      <th>0</th>\n",
              "      <td>Aviation</td>\n",
              "      <td>0</td>\n",
              "      <td>173</td>\n",
              "      <td>237</td>\n",
              "      <td>72.995781</td>\n",
              "    </tr>\n",
              "    <tr>\n",
              "      <th>1</th>\n",
              "      <td>Aviation</td>\n",
              "      <td>1</td>\n",
              "      <td>64</td>\n",
              "      <td>237</td>\n",
              "      <td>27.004219</td>\n",
              "    </tr>\n",
              "    <tr>\n",
              "      <th>2</th>\n",
              "      <td>Complementary</td>\n",
              "      <td>0</td>\n",
              "      <td>513</td>\n",
              "      <td>743</td>\n",
              "      <td>69.044415</td>\n",
              "    </tr>\n",
              "    <tr>\n",
              "      <th>3</th>\n",
              "      <td>Complementary</td>\n",
              "      <td>1</td>\n",
              "      <td>230</td>\n",
              "      <td>743</td>\n",
              "      <td>30.955585</td>\n",
              "    </tr>\n",
              "    <tr>\n",
              "      <th>4</th>\n",
              "      <td>Corporate</td>\n",
              "      <td>0</td>\n",
              "      <td>3821</td>\n",
              "      <td>5295</td>\n",
              "      <td>72.162417</td>\n",
              "    </tr>\n",
              "    <tr>\n",
              "      <th>5</th>\n",
              "      <td>Corporate</td>\n",
              "      <td>1</td>\n",
              "      <td>1474</td>\n",
              "      <td>5295</td>\n",
              "      <td>27.837583</td>\n",
              "    </tr>\n",
              "    <tr>\n",
              "      <th>6</th>\n",
              "      <td>Direct</td>\n",
              "      <td>0</td>\n",
              "      <td>11810</td>\n",
              "      <td>12606</td>\n",
              "      <td>93.685547</td>\n",
              "    </tr>\n",
              "    <tr>\n",
              "      <th>7</th>\n",
              "      <td>Direct</td>\n",
              "      <td>1</td>\n",
              "      <td>796</td>\n",
              "      <td>12606</td>\n",
              "      <td>6.314453</td>\n",
              "    </tr>\n",
              "    <tr>\n",
              "      <th>8</th>\n",
              "      <td>Groups</td>\n",
              "      <td>0</td>\n",
              "      <td>19541</td>\n",
              "      <td>19811</td>\n",
              "      <td>98.637121</td>\n",
              "    </tr>\n",
              "    <tr>\n",
              "      <th>9</th>\n",
              "      <td>Groups</td>\n",
              "      <td>1</td>\n",
              "      <td>270</td>\n",
              "      <td>19811</td>\n",
              "      <td>1.362879</td>\n",
              "    </tr>\n",
              "    <tr>\n",
              "      <th>10</th>\n",
              "      <td>Offline TA/TO</td>\n",
              "      <td>0</td>\n",
              "      <td>23840</td>\n",
              "      <td>24219</td>\n",
              "      <td>98.435113</td>\n",
              "    </tr>\n",
              "    <tr>\n",
              "      <th>11</th>\n",
              "      <td>Offline TA/TO</td>\n",
              "      <td>1</td>\n",
              "      <td>379</td>\n",
              "      <td>24219</td>\n",
              "      <td>1.564887</td>\n",
              "    </tr>\n",
              "    <tr>\n",
              "      <th>12</th>\n",
              "      <td>Online TA</td>\n",
              "      <td>0</td>\n",
              "      <td>55880</td>\n",
              "      <td>56477</td>\n",
              "      <td>98.942933</td>\n",
              "    </tr>\n",
              "    <tr>\n",
              "      <th>13</th>\n",
              "      <td>Online TA</td>\n",
              "      <td>1</td>\n",
              "      <td>597</td>\n",
              "      <td>56477</td>\n",
              "      <td>1.057067</td>\n",
              "    </tr>\n",
              "    <tr>\n",
              "      <th>14</th>\n",
              "      <td>Undefined</td>\n",
              "      <td>0</td>\n",
              "      <td>2</td>\n",
              "      <td>2</td>\n",
              "      <td>100.000000</td>\n",
              "    </tr>\n",
              "  </tbody>\n",
              "</table>\n",
              "</div>"
            ],
            "text/plain": [
              "   market_segment  is_repeated_guest  count  total  repeated_guest_per_market%\n",
              "0        Aviation                  0    173    237                   72.995781\n",
              "1        Aviation                  1     64    237                   27.004219\n",
              "2   Complementary                  0    513    743                   69.044415\n",
              "3   Complementary                  1    230    743                   30.955585\n",
              "4       Corporate                  0   3821   5295                   72.162417\n",
              "5       Corporate                  1   1474   5295                   27.837583\n",
              "6          Direct                  0  11810  12606                   93.685547\n",
              "7          Direct                  1    796  12606                    6.314453\n",
              "8          Groups                  0  19541  19811                   98.637121\n",
              "9          Groups                  1    270  19811                    1.362879\n",
              "10  Offline TA/TO                  0  23840  24219                   98.435113\n",
              "11  Offline TA/TO                  1    379  24219                    1.564887\n",
              "12      Online TA                  0  55880  56477                   98.942933\n",
              "13      Online TA                  1    597  56477                    1.057067\n",
              "14      Undefined                  0      2      2                  100.000000"
            ]
          },
          "metadata": {
            "tags": []
          },
          "execution_count": 34
        }
      ]
    },
    {
      "cell_type": "code",
      "metadata": {
        "colab": {
          "base_uri": "https://localhost:8080/",
          "height": 263
        },
        "id": "63kuAdEFzw_F",
        "outputId": "7f8036a2-b1d1-4fc1-98ad-b48cecec44f5"
      },
      "source": [
        " # Taking only where guest repeated\n",
        "df_mkt_segment_impact= df_mkt_segment_impact[df_mkt_segment_impact['is_repeated_guest'] > 0]\n",
        "df_mkt_segment_impact.sort_values(by='count',ascending=False)\n",
        "# Print DataFrame\n",
        "df_mkt_segment_impact"
      ],
      "execution_count": 35,
      "outputs": [
        {
          "output_type": "execute_result",
          "data": {
            "text/html": [
              "<div>\n",
              "<style scoped>\n",
              "    .dataframe tbody tr th:only-of-type {\n",
              "        vertical-align: middle;\n",
              "    }\n",
              "\n",
              "    .dataframe tbody tr th {\n",
              "        vertical-align: top;\n",
              "    }\n",
              "\n",
              "    .dataframe thead th {\n",
              "        text-align: right;\n",
              "    }\n",
              "</style>\n",
              "<table border=\"1\" class=\"dataframe\">\n",
              "  <thead>\n",
              "    <tr style=\"text-align: right;\">\n",
              "      <th></th>\n",
              "      <th>market_segment</th>\n",
              "      <th>is_repeated_guest</th>\n",
              "      <th>count</th>\n",
              "      <th>total</th>\n",
              "      <th>repeated_guest_per_market%</th>\n",
              "    </tr>\n",
              "  </thead>\n",
              "  <tbody>\n",
              "    <tr>\n",
              "      <th>1</th>\n",
              "      <td>Aviation</td>\n",
              "      <td>1</td>\n",
              "      <td>64</td>\n",
              "      <td>237</td>\n",
              "      <td>27.004219</td>\n",
              "    </tr>\n",
              "    <tr>\n",
              "      <th>3</th>\n",
              "      <td>Complementary</td>\n",
              "      <td>1</td>\n",
              "      <td>230</td>\n",
              "      <td>743</td>\n",
              "      <td>30.955585</td>\n",
              "    </tr>\n",
              "    <tr>\n",
              "      <th>5</th>\n",
              "      <td>Corporate</td>\n",
              "      <td>1</td>\n",
              "      <td>1474</td>\n",
              "      <td>5295</td>\n",
              "      <td>27.837583</td>\n",
              "    </tr>\n",
              "    <tr>\n",
              "      <th>7</th>\n",
              "      <td>Direct</td>\n",
              "      <td>1</td>\n",
              "      <td>796</td>\n",
              "      <td>12606</td>\n",
              "      <td>6.314453</td>\n",
              "    </tr>\n",
              "    <tr>\n",
              "      <th>9</th>\n",
              "      <td>Groups</td>\n",
              "      <td>1</td>\n",
              "      <td>270</td>\n",
              "      <td>19811</td>\n",
              "      <td>1.362879</td>\n",
              "    </tr>\n",
              "    <tr>\n",
              "      <th>11</th>\n",
              "      <td>Offline TA/TO</td>\n",
              "      <td>1</td>\n",
              "      <td>379</td>\n",
              "      <td>24219</td>\n",
              "      <td>1.564887</td>\n",
              "    </tr>\n",
              "    <tr>\n",
              "      <th>13</th>\n",
              "      <td>Online TA</td>\n",
              "      <td>1</td>\n",
              "      <td>597</td>\n",
              "      <td>56477</td>\n",
              "      <td>1.057067</td>\n",
              "    </tr>\n",
              "  </tbody>\n",
              "</table>\n",
              "</div>"
            ],
            "text/plain": [
              "   market_segment  is_repeated_guest  count  total  repeated_guest_per_market%\n",
              "1        Aviation                  1     64    237                   27.004219\n",
              "3   Complementary                  1    230    743                   30.955585\n",
              "5       Corporate                  1   1474   5295                   27.837583\n",
              "7          Direct                  1    796  12606                    6.314453\n",
              "9          Groups                  1    270  19811                    1.362879\n",
              "11  Offline TA/TO                  1    379  24219                    1.564887\n",
              "13      Online TA                  1    597  56477                    1.057067"
            ]
          },
          "metadata": {
            "tags": []
          },
          "execution_count": 35
        }
      ]
    },
    {
      "cell_type": "code",
      "metadata": {
        "colab": {
          "base_uri": "https://localhost:8080/",
          "height": 476
        },
        "id": "soi_gKMBz2eg",
        "outputId": "cdbb8b52-ef24-42c6-e66d-fedd11b1619a"
      },
      "source": [
        "# Enlarging figure size\n",
        "plt.figure(figsize=(8,9))\n",
        "#Setting label names\n",
        "names='Aviation', 'Complementary', 'Corporate', 'Direct', 'Groups', 'Offline TA/TO', 'Online TA'\n",
        "# Plotting data using pie chart\n",
        "plt.pie(df_mkt_segment_impact['repeated_guest_per_market%'], labels=names, labeldistance=1.15,autopct='%1.0f%%',explode=(0.01, 0.01, 0.01, 0.01, 0.02, 0.02, 0.02))\n",
        "# Show object\n",
        "plt.show();"
      ],
      "execution_count": 49,
      "outputs": [
        {
          "output_type": "display_data",
          "data": {
            "image/png": "[encoded data removed]",
            "text/plain": [
              "<Figure size 576x648 with 1 Axes>"
            ]
          },
          "metadata": {
            "tags": []
          }
        }
      ]
    },
    {
      "cell_type": "markdown",
      "metadata": {
        "id": "MxLGEiUU2W2Y"
      },
      "source": [
        "We can make conclusion that guest using **'Complementary'** segment are the one who is repeated followed by **'Corporate'**\n",
        "\n",
        "##Let's analyze does market segment and Reservation status efffect each other?"
      ]
    },
    {
      "cell_type": "code",
      "metadata": {
        "colab": {
          "base_uri": "https://localhost:8080/",
          "height": 723
        },
        "id": "8UXE977p2z9f",
        "outputId": "2a99c04d-270f-4d0b-d32d-12c4ab69ca14"
      },
      "source": [
        "# DataFrame to find count of resrvation status per market segment \n",
        "mkt_segment_res_status=df.groupby(['market_segment','reservation_status']).size().reset_index(name='count').sort_values(by='count',ascending=False)\n",
        "# Print DataFrame\n",
        "mkt_segment_res_status"
      ],
      "execution_count": 37,
      "outputs": [
        {
          "output_type": "execute_result",
          "data": {
            "text/html": [
              "<div>\n",
              "<style scoped>\n",
              "    .dataframe tbody tr th:only-of-type {\n",
              "        vertical-align: middle;\n",
              "    }\n",
              "\n",
              "    .dataframe tbody tr th {\n",
              "        vertical-align: top;\n",
              "    }\n",
              "\n",
              "    .dataframe thead th {\n",
              "        text-align: right;\n",
              "    }\n",
              "</style>\n",
              "<table border=\"1\" class=\"dataframe\">\n",
              "  <thead>\n",
              "    <tr style=\"text-align: right;\">\n",
              "      <th></th>\n",
              "      <th>market_segment</th>\n",
              "      <th>reservation_status</th>\n",
              "      <th>count</th>\n",
              "    </tr>\n",
              "  </thead>\n",
              "  <tbody>\n",
              "    <tr>\n",
              "      <th>19</th>\n",
              "      <td>Online TA</td>\n",
              "      <td>Check-Out</td>\n",
              "      <td>35738</td>\n",
              "    </tr>\n",
              "    <tr>\n",
              "      <th>18</th>\n",
              "      <td>Online TA</td>\n",
              "      <td>Canceled</td>\n",
              "      <td>20148</td>\n",
              "    </tr>\n",
              "    <tr>\n",
              "      <th>16</th>\n",
              "      <td>Offline TA/TO</td>\n",
              "      <td>Check-Out</td>\n",
              "      <td>15908</td>\n",
              "    </tr>\n",
              "    <tr>\n",
              "      <th>12</th>\n",
              "      <td>Groups</td>\n",
              "      <td>Canceled</td>\n",
              "      <td>12023</td>\n",
              "    </tr>\n",
              "    <tr>\n",
              "      <th>10</th>\n",
              "      <td>Direct</td>\n",
              "      <td>Check-Out</td>\n",
              "      <td>10672</td>\n",
              "    </tr>\n",
              "    <tr>\n",
              "      <th>15</th>\n",
              "      <td>Offline TA/TO</td>\n",
              "      <td>Canceled</td>\n",
              "      <td>8080</td>\n",
              "    </tr>\n",
              "    <tr>\n",
              "      <th>13</th>\n",
              "      <td>Groups</td>\n",
              "      <td>Check-Out</td>\n",
              "      <td>7714</td>\n",
              "    </tr>\n",
              "    <tr>\n",
              "      <th>7</th>\n",
              "      <td>Corporate</td>\n",
              "      <td>Check-Out</td>\n",
              "      <td>4303</td>\n",
              "    </tr>\n",
              "    <tr>\n",
              "      <th>9</th>\n",
              "      <td>Direct</td>\n",
              "      <td>Canceled</td>\n",
              "      <td>1722</td>\n",
              "    </tr>\n",
              "    <tr>\n",
              "      <th>6</th>\n",
              "      <td>Corporate</td>\n",
              "      <td>Canceled</td>\n",
              "      <td>916</td>\n",
              "    </tr>\n",
              "    <tr>\n",
              "      <th>4</th>\n",
              "      <td>Complementary</td>\n",
              "      <td>Check-Out</td>\n",
              "      <td>646</td>\n",
              "    </tr>\n",
              "    <tr>\n",
              "      <th>20</th>\n",
              "      <td>Online TA</td>\n",
              "      <td>No-Show</td>\n",
              "      <td>591</td>\n",
              "    </tr>\n",
              "    <tr>\n",
              "      <th>17</th>\n",
              "      <td>Offline TA/TO</td>\n",
              "      <td>No-Show</td>\n",
              "      <td>231</td>\n",
              "    </tr>\n",
              "    <tr>\n",
              "      <th>11</th>\n",
              "      <td>Direct</td>\n",
              "      <td>No-Show</td>\n",
              "      <td>212</td>\n",
              "    </tr>\n",
              "    <tr>\n",
              "      <th>1</th>\n",
              "      <td>Aviation</td>\n",
              "      <td>Check-Out</td>\n",
              "      <td>185</td>\n",
              "    </tr>\n",
              "    <tr>\n",
              "      <th>3</th>\n",
              "      <td>Complementary</td>\n",
              "      <td>Canceled</td>\n",
              "      <td>85</td>\n",
              "    </tr>\n",
              "    <tr>\n",
              "      <th>8</th>\n",
              "      <td>Corporate</td>\n",
              "      <td>No-Show</td>\n",
              "      <td>76</td>\n",
              "    </tr>\n",
              "    <tr>\n",
              "      <th>14</th>\n",
              "      <td>Groups</td>\n",
              "      <td>No-Show</td>\n",
              "      <td>74</td>\n",
              "    </tr>\n",
              "    <tr>\n",
              "      <th>0</th>\n",
              "      <td>Aviation</td>\n",
              "      <td>Canceled</td>\n",
              "      <td>41</td>\n",
              "    </tr>\n",
              "    <tr>\n",
              "      <th>5</th>\n",
              "      <td>Complementary</td>\n",
              "      <td>No-Show</td>\n",
              "      <td>12</td>\n",
              "    </tr>\n",
              "    <tr>\n",
              "      <th>2</th>\n",
              "      <td>Aviation</td>\n",
              "      <td>No-Show</td>\n",
              "      <td>11</td>\n",
              "    </tr>\n",
              "    <tr>\n",
              "      <th>21</th>\n",
              "      <td>Undefined</td>\n",
              "      <td>Canceled</td>\n",
              "      <td>2</td>\n",
              "    </tr>\n",
              "  </tbody>\n",
              "</table>\n",
              "</div>"
            ],
            "text/plain": [
              "   market_segment reservation_status  count\n",
              "19      Online TA          Check-Out  35738\n",
              "18      Online TA           Canceled  20148\n",
              "16  Offline TA/TO          Check-Out  15908\n",
              "12         Groups           Canceled  12023\n",
              "10         Direct          Check-Out  10672\n",
              "15  Offline TA/TO           Canceled   8080\n",
              "13         Groups          Check-Out   7714\n",
              "7       Corporate          Check-Out   4303\n",
              "9          Direct           Canceled   1722\n",
              "6       Corporate           Canceled    916\n",
              "4   Complementary          Check-Out    646\n",
              "20      Online TA            No-Show    591\n",
              "17  Offline TA/TO            No-Show    231\n",
              "11         Direct            No-Show    212\n",
              "1        Aviation          Check-Out    185\n",
              "3   Complementary           Canceled     85\n",
              "8       Corporate            No-Show     76\n",
              "14         Groups            No-Show     74\n",
              "0        Aviation           Canceled     41\n",
              "5   Complementary            No-Show     12\n",
              "2        Aviation            No-Show     11\n",
              "21      Undefined           Canceled      2"
            ]
          },
          "metadata": {
            "tags": []
          },
          "execution_count": 37
        }
      ]
    },
    {
      "cell_type": "code",
      "metadata": {
        "colab": {
          "base_uri": "https://localhost:8080/",
          "height": 625
        },
        "id": "NJRT6tOY3JPl",
        "outputId": "ce750622-660b-4042-fb66-2ef1f1777315"
      },
      "source": [
        "# Checking only for canceled and no show in resrvation status\n",
        "mkt_segment_res_status= mkt_segment_res_status[mkt_segment_res_status['reservation_status'] != 'Check-Out'] \n",
        "mkt_segment_res_status.rename(columns = {'market_segment':'mkt_segment'}, inplace = True)\n",
        "# Print DataFrame\n",
        "mkt_segment_res_status"
      ],
      "execution_count": 38,
      "outputs": [
        {
          "output_type": "stream",
          "text": [
            "/usr/local/lib/python3.7/dist-packages/pandas/core/frame.py:4308: SettingWithCopyWarning:\n",
            "\n",
            "\n",
            "A value is trying to be set on a copy of a slice from a DataFrame\n",
            "\n",
            "See the caveats in the documentation: https://pandas.pydata.org/pandas-docs/stable/user_guide/indexing.html#returning-a-view-versus-a-copy\n",
            "\n"
          ],
          "name": "stderr"
        },
        {
          "output_type": "execute_result",
          "data": {
            "text/html": [
              "<div>\n",
              "<style scoped>\n",
              "    .dataframe tbody tr th:only-of-type {\n",
              "        vertical-align: middle;\n",
              "    }\n",
              "\n",
              "    .dataframe tbody tr th {\n",
              "        vertical-align: top;\n",
              "    }\n",
              "\n",
              "    .dataframe thead th {\n",
              "        text-align: right;\n",
              "    }\n",
              "</style>\n",
              "<table border=\"1\" class=\"dataframe\">\n",
              "  <thead>\n",
              "    <tr style=\"text-align: right;\">\n",
              "      <th></th>\n",
              "      <th>mkt_segment</th>\n",
              "      <th>reservation_status</th>\n",
              "      <th>count</th>\n",
              "    </tr>\n",
              "  </thead>\n",
              "  <tbody>\n",
              "    <tr>\n",
              "      <th>18</th>\n",
              "      <td>Online TA</td>\n",
              "      <td>Canceled</td>\n",
              "      <td>20148</td>\n",
              "    </tr>\n",
              "    <tr>\n",
              "      <th>12</th>\n",
              "      <td>Groups</td>\n",
              "      <td>Canceled</td>\n",
              "      <td>12023</td>\n",
              "    </tr>\n",
              "    <tr>\n",
              "      <th>15</th>\n",
              "      <td>Offline TA/TO</td>\n",
              "      <td>Canceled</td>\n",
              "      <td>8080</td>\n",
              "    </tr>\n",
              "    <tr>\n",
              "      <th>9</th>\n",
              "      <td>Direct</td>\n",
              "      <td>Canceled</td>\n",
              "      <td>1722</td>\n",
              "    </tr>\n",
              "    <tr>\n",
              "      <th>6</th>\n",
              "      <td>Corporate</td>\n",
              "      <td>Canceled</td>\n",
              "      <td>916</td>\n",
              "    </tr>\n",
              "    <tr>\n",
              "      <th>20</th>\n",
              "      <td>Online TA</td>\n",
              "      <td>No-Show</td>\n",
              "      <td>591</td>\n",
              "    </tr>\n",
              "    <tr>\n",
              "      <th>17</th>\n",
              "      <td>Offline TA/TO</td>\n",
              "      <td>No-Show</td>\n",
              "      <td>231</td>\n",
              "    </tr>\n",
              "    <tr>\n",
              "      <th>11</th>\n",
              "      <td>Direct</td>\n",
              "      <td>No-Show</td>\n",
              "      <td>212</td>\n",
              "    </tr>\n",
              "    <tr>\n",
              "      <th>3</th>\n",
              "      <td>Complementary</td>\n",
              "      <td>Canceled</td>\n",
              "      <td>85</td>\n",
              "    </tr>\n",
              "    <tr>\n",
              "      <th>8</th>\n",
              "      <td>Corporate</td>\n",
              "      <td>No-Show</td>\n",
              "      <td>76</td>\n",
              "    </tr>\n",
              "    <tr>\n",
              "      <th>14</th>\n",
              "      <td>Groups</td>\n",
              "      <td>No-Show</td>\n",
              "      <td>74</td>\n",
              "    </tr>\n",
              "    <tr>\n",
              "      <th>0</th>\n",
              "      <td>Aviation</td>\n",
              "      <td>Canceled</td>\n",
              "      <td>41</td>\n",
              "    </tr>\n",
              "    <tr>\n",
              "      <th>5</th>\n",
              "      <td>Complementary</td>\n",
              "      <td>No-Show</td>\n",
              "      <td>12</td>\n",
              "    </tr>\n",
              "    <tr>\n",
              "      <th>2</th>\n",
              "      <td>Aviation</td>\n",
              "      <td>No-Show</td>\n",
              "      <td>11</td>\n",
              "    </tr>\n",
              "    <tr>\n",
              "      <th>21</th>\n",
              "      <td>Undefined</td>\n",
              "      <td>Canceled</td>\n",
              "      <td>2</td>\n",
              "    </tr>\n",
              "  </tbody>\n",
              "</table>\n",
              "</div>"
            ],
            "text/plain": [
              "      mkt_segment reservation_status  count\n",
              "18      Online TA           Canceled  20148\n",
              "12         Groups           Canceled  12023\n",
              "15  Offline TA/TO           Canceled   8080\n",
              "9          Direct           Canceled   1722\n",
              "6       Corporate           Canceled    916\n",
              "20      Online TA            No-Show    591\n",
              "17  Offline TA/TO            No-Show    231\n",
              "11         Direct            No-Show    212\n",
              "3   Complementary           Canceled     85\n",
              "8       Corporate            No-Show     76\n",
              "14         Groups            No-Show     74\n",
              "0        Aviation           Canceled     41\n",
              "5   Complementary            No-Show     12\n",
              "2        Aviation            No-Show     11\n",
              "21      Undefined           Canceled      2"
            ]
          },
          "metadata": {
            "tags": []
          },
          "execution_count": 38
        }
      ]
    },
    {
      "cell_type": "code",
      "metadata": {
        "colab": {
          "base_uri": "https://localhost:8080/",
          "height": 294
        },
        "id": "oNyTg00h3ZQi",
        "outputId": "fc27a0b6-c3c1-4de6-de6d-344ceddff17b"
      },
      "source": [
        "# Check total count of each market segment\n",
        "market_segment_counts=pd.DataFrame(df.market_segment.value_counts())\n",
        "market_segment_counts.reset_index(level=0, inplace=True)\n",
        "market_segment_counts.rename(columns = {'market_segment':'total','index':'mkt_segment'}, inplace = True)\n",
        "# Print DataFrame\n",
        "market_segment_counts"
      ],
      "execution_count": 39,
      "outputs": [
        {
          "output_type": "execute_result",
          "data": {
            "text/html": [
              "<div>\n",
              "<style scoped>\n",
              "    .dataframe tbody tr th:only-of-type {\n",
              "        vertical-align: middle;\n",
              "    }\n",
              "\n",
              "    .dataframe tbody tr th {\n",
              "        vertical-align: top;\n",
              "    }\n",
              "\n",
              "    .dataframe thead th {\n",
              "        text-align: right;\n",
              "    }\n",
              "</style>\n",
              "<table border=\"1\" class=\"dataframe\">\n",
              "  <thead>\n",
              "    <tr style=\"text-align: right;\">\n",
              "      <th></th>\n",
              "      <th>mkt_segment</th>\n",
              "      <th>total</th>\n",
              "    </tr>\n",
              "  </thead>\n",
              "  <tbody>\n",
              "    <tr>\n",
              "      <th>0</th>\n",
              "      <td>Online TA</td>\n",
              "      <td>56477</td>\n",
              "    </tr>\n",
              "    <tr>\n",
              "      <th>1</th>\n",
              "      <td>Offline TA/TO</td>\n",
              "      <td>24219</td>\n",
              "    </tr>\n",
              "    <tr>\n",
              "      <th>2</th>\n",
              "      <td>Groups</td>\n",
              "      <td>19811</td>\n",
              "    </tr>\n",
              "    <tr>\n",
              "      <th>3</th>\n",
              "      <td>Direct</td>\n",
              "      <td>12606</td>\n",
              "    </tr>\n",
              "    <tr>\n",
              "      <th>4</th>\n",
              "      <td>Corporate</td>\n",
              "      <td>5295</td>\n",
              "    </tr>\n",
              "    <tr>\n",
              "      <th>5</th>\n",
              "      <td>Complementary</td>\n",
              "      <td>743</td>\n",
              "    </tr>\n",
              "    <tr>\n",
              "      <th>6</th>\n",
              "      <td>Aviation</td>\n",
              "      <td>237</td>\n",
              "    </tr>\n",
              "    <tr>\n",
              "      <th>7</th>\n",
              "      <td>Undefined</td>\n",
              "      <td>2</td>\n",
              "    </tr>\n",
              "  </tbody>\n",
              "</table>\n",
              "</div>"
            ],
            "text/plain": [
              "     mkt_segment  total\n",
              "0      Online TA  56477\n",
              "1  Offline TA/TO  24219\n",
              "2         Groups  19811\n",
              "3         Direct  12606\n",
              "4      Corporate   5295\n",
              "5  Complementary    743\n",
              "6       Aviation    237\n",
              "7      Undefined      2"
            ]
          },
          "metadata": {
            "tags": []
          },
          "execution_count": 39
        }
      ]
    },
    {
      "cell_type": "code",
      "metadata": {
        "colab": {
          "base_uri": "https://localhost:8080/",
          "height": 508
        },
        "id": "OjtMaAQ93sxC",
        "outputId": "876c3ebc-82e5-4fc0-a189-0b176501f8ec"
      },
      "source": [
        "# Joining the two tables\n",
        "mkt_segment_res_status=mkt_segment_res_status.merge(market_segment_counts, on='mkt_segment', how='left')\n",
        "# Calculating Canceled or No-Show percentage\n",
        "mkt_segment_res_status['canceled_or_no_show%']=(mkt_segment_res_status['count']/mkt_segment_res_status['total'])*100\n",
        "# Print DataFrame\n",
        "mkt_segment_res_status"
      ],
      "execution_count": 40,
      "outputs": [
        {
          "output_type": "execute_result",
          "data": {
            "text/html": [
              "<div>\n",
              "<style scoped>\n",
              "    .dataframe tbody tr th:only-of-type {\n",
              "        vertical-align: middle;\n",
              "    }\n",
              "\n",
              "    .dataframe tbody tr th {\n",
              "        vertical-align: top;\n",
              "    }\n",
              "\n",
              "    .dataframe thead th {\n",
              "        text-align: right;\n",
              "    }\n",
              "</style>\n",
              "<table border=\"1\" class=\"dataframe\">\n",
              "  <thead>\n",
              "    <tr style=\"text-align: right;\">\n",
              "      <th></th>\n",
              "      <th>mkt_segment</th>\n",
              "      <th>reservation_status</th>\n",
              "      <th>count</th>\n",
              "      <th>total</th>\n",
              "      <th>canceled_or_no_show%</th>\n",
              "    </tr>\n",
              "  </thead>\n",
              "  <tbody>\n",
              "    <tr>\n",
              "      <th>0</th>\n",
              "      <td>Online TA</td>\n",
              "      <td>Canceled</td>\n",
              "      <td>20148</td>\n",
              "      <td>56477</td>\n",
              "      <td>35.674699</td>\n",
              "    </tr>\n",
              "    <tr>\n",
              "      <th>1</th>\n",
              "      <td>Groups</td>\n",
              "      <td>Canceled</td>\n",
              "      <td>12023</td>\n",
              "      <td>19811</td>\n",
              "      <td>60.688506</td>\n",
              "    </tr>\n",
              "    <tr>\n",
              "      <th>2</th>\n",
              "      <td>Offline TA/TO</td>\n",
              "      <td>Canceled</td>\n",
              "      <td>8080</td>\n",
              "      <td>24219</td>\n",
              "      <td>33.362236</td>\n",
              "    </tr>\n",
              "    <tr>\n",
              "      <th>3</th>\n",
              "      <td>Direct</td>\n",
              "      <td>Canceled</td>\n",
              "      <td>1722</td>\n",
              "      <td>12606</td>\n",
              "      <td>13.660162</td>\n",
              "    </tr>\n",
              "    <tr>\n",
              "      <th>4</th>\n",
              "      <td>Corporate</td>\n",
              "      <td>Canceled</td>\n",
              "      <td>916</td>\n",
              "      <td>5295</td>\n",
              "      <td>17.299339</td>\n",
              "    </tr>\n",
              "    <tr>\n",
              "      <th>5</th>\n",
              "      <td>Online TA</td>\n",
              "      <td>No-Show</td>\n",
              "      <td>591</td>\n",
              "      <td>56477</td>\n",
              "      <td>1.046444</td>\n",
              "    </tr>\n",
              "    <tr>\n",
              "      <th>6</th>\n",
              "      <td>Offline TA/TO</td>\n",
              "      <td>No-Show</td>\n",
              "      <td>231</td>\n",
              "      <td>24219</td>\n",
              "      <td>0.953797</td>\n",
              "    </tr>\n",
              "    <tr>\n",
              "      <th>7</th>\n",
              "      <td>Direct</td>\n",
              "      <td>No-Show</td>\n",
              "      <td>212</td>\n",
              "      <td>12606</td>\n",
              "      <td>1.681739</td>\n",
              "    </tr>\n",
              "    <tr>\n",
              "      <th>8</th>\n",
              "      <td>Complementary</td>\n",
              "      <td>Canceled</td>\n",
              "      <td>85</td>\n",
              "      <td>743</td>\n",
              "      <td>11.440108</td>\n",
              "    </tr>\n",
              "    <tr>\n",
              "      <th>9</th>\n",
              "      <td>Corporate</td>\n",
              "      <td>No-Show</td>\n",
              "      <td>76</td>\n",
              "      <td>5295</td>\n",
              "      <td>1.435316</td>\n",
              "    </tr>\n",
              "    <tr>\n",
              "      <th>10</th>\n",
              "      <td>Groups</td>\n",
              "      <td>No-Show</td>\n",
              "      <td>74</td>\n",
              "      <td>19811</td>\n",
              "      <td>0.373530</td>\n",
              "    </tr>\n",
              "    <tr>\n",
              "      <th>11</th>\n",
              "      <td>Aviation</td>\n",
              "      <td>Canceled</td>\n",
              "      <td>41</td>\n",
              "      <td>237</td>\n",
              "      <td>17.299578</td>\n",
              "    </tr>\n",
              "    <tr>\n",
              "      <th>12</th>\n",
              "      <td>Complementary</td>\n",
              "      <td>No-Show</td>\n",
              "      <td>12</td>\n",
              "      <td>743</td>\n",
              "      <td>1.615074</td>\n",
              "    </tr>\n",
              "    <tr>\n",
              "      <th>13</th>\n",
              "      <td>Aviation</td>\n",
              "      <td>No-Show</td>\n",
              "      <td>11</td>\n",
              "      <td>237</td>\n",
              "      <td>4.641350</td>\n",
              "    </tr>\n",
              "    <tr>\n",
              "      <th>14</th>\n",
              "      <td>Undefined</td>\n",
              "      <td>Canceled</td>\n",
              "      <td>2</td>\n",
              "      <td>2</td>\n",
              "      <td>100.000000</td>\n",
              "    </tr>\n",
              "  </tbody>\n",
              "</table>\n",
              "</div>"
            ],
            "text/plain": [
              "      mkt_segment reservation_status  count  total  canceled_or_no_show%\n",
              "0       Online TA           Canceled  20148  56477             35.674699\n",
              "1          Groups           Canceled  12023  19811             60.688506\n",
              "2   Offline TA/TO           Canceled   8080  24219             33.362236\n",
              "3          Direct           Canceled   1722  12606             13.660162\n",
              "4       Corporate           Canceled    916   5295             17.299339\n",
              "5       Online TA            No-Show    591  56477              1.046444\n",
              "6   Offline TA/TO            No-Show    231  24219              0.953797\n",
              "7          Direct            No-Show    212  12606              1.681739\n",
              "8   Complementary           Canceled     85    743             11.440108\n",
              "9       Corporate            No-Show     76   5295              1.435316\n",
              "10         Groups            No-Show     74  19811              0.373530\n",
              "11       Aviation           Canceled     41    237             17.299578\n",
              "12  Complementary            No-Show     12    743              1.615074\n",
              "13       Aviation            No-Show     11    237              4.641350\n",
              "14      Undefined           Canceled      2      2            100.000000"
            ]
          },
          "metadata": {
            "tags": []
          },
          "execution_count": 40
        }
      ]
    },
    {
      "cell_type": "code",
      "metadata": {
        "colab": {
          "base_uri": "https://localhost:8080/",
          "height": 540
        },
        "id": "y6aLYwsM369L",
        "outputId": "2b19591e-ac50-4cce-9925-7168e9f97973"
      },
      "source": [
        "fig, axes = plt.subplots(1, 1, figsize=(12, 8))\n",
        "# _ = sns.barplot(y = 'canceled_or_no_show%', x = 'mkt_segment', data =data4)\n",
        "sns.stripplot(x=\"mkt_segment\", y=\"canceled_or_no_show%\", hue='reservation_status',\n",
        "                   data=mkt_segment_res_status, palette='inferno', size=15, marker='h',\n",
        "                   edgecolor=\"gray\", alpha=.75).set_title(\"Canceled or No-Show in each Market segment\",fontsize=20)\n"
      ],
      "execution_count": 53,
      "outputs": [
        {
          "output_type": "execute_result",
          "data": {
            "text/plain": [
              "Text(0.5, 1.0, 'Canceled or No-Show in each Market segment')"
            ]
          },
          "metadata": {
            "tags": []
          },
          "execution_count": 53
        },
        {
          "output_type": "display_data",
          "data": {
            "image/png": "[encoded data removed]",
            "text/plain": [
              "<Figure size 864x576 with 1 Axes>"
            ]
          },
          "metadata": {
            "tags": []
          }
        }
      ]
    },
    {
      "cell_type": "markdown",
      "metadata": {
        "id": "WLDEJ3DiCFDD"
      },
      "source": [
        "We can conclude that 'Undefined' and **'Group'** are the top segemnt where guest usually cancel the booking foolowed by **'Online TA'**"
      ]
    }
  ]
}